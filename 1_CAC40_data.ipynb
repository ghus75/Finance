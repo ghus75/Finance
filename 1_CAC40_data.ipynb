{
 "cells": [
  {
   "cell_type": "markdown",
   "id": "ea178463",
   "metadata": {},
   "source": [
    "# CAC40 data retrieval"
   ]
  },
  {
   "cell_type": "markdown",
   "id": "d095fedb",
   "metadata": {},
   "source": [
    "[CAC40 Data retrieval](#data)\n",
    "- [CAC40 index](#index)\n",
    "- [CAC40 constituents](#constit)"
   ]
  },
  {
   "cell_type": "code",
   "execution_count": 32,
   "id": "3e016447",
   "metadata": {},
   "outputs": [],
   "source": [
    "import pandas as pd\n",
    "import pickle\n",
    "import yfinance as yf\n",
    "import requests"
   ]
  },
  {
   "cell_type": "markdown",
   "id": "927f7ccb",
   "metadata": {},
   "source": [
    "## Data retrieval <a id='data'></a>"
   ]
  },
  {
   "cell_type": "markdown",
   "id": "82df4bd8",
   "metadata": {},
   "source": [
    "### CAC40 index  <a id='index'></a>"
   ]
  },
  {
   "cell_type": "markdown",
   "id": "20a899ac",
   "metadata": {},
   "source": [
    "#### Yahoo finance Data from 1990-03-01 to today"
   ]
  },
  {
   "cell_type": "code",
   "execution_count": 2,
   "id": "cafbdd02",
   "metadata": {},
   "outputs": [
    {
     "name": "stdout",
     "output_type": "stream",
     "text": [
      "[*********************100%%**********************]  1 of 1 completed\n"
     ]
    }
   ],
   "source": [
    "data_cac40 = yf.download('^FCHI', start=\"1987-12-31\", end=\"2023-09-08\")"
   ]
  },
  {
   "cell_type": "code",
   "execution_count": 3,
   "id": "89e72bb8",
   "metadata": {},
   "outputs": [
    {
     "data": {
      "text/html": [
       "<div>\n",
       "<style scoped>\n",
       "    .dataframe tbody tr th:only-of-type {\n",
       "        vertical-align: middle;\n",
       "    }\n",
       "\n",
       "    .dataframe tbody tr th {\n",
       "        vertical-align: top;\n",
       "    }\n",
       "\n",
       "    .dataframe thead th {\n",
       "        text-align: right;\n",
       "    }\n",
       "</style>\n",
       "<table border=\"1\" class=\"dataframe\">\n",
       "  <thead>\n",
       "    <tr style=\"text-align: right;\">\n",
       "      <th></th>\n",
       "      <th>Open</th>\n",
       "      <th>High</th>\n",
       "      <th>Low</th>\n",
       "      <th>Close</th>\n",
       "      <th>Adj Close</th>\n",
       "      <th>Volume</th>\n",
       "    </tr>\n",
       "    <tr>\n",
       "      <th>Date</th>\n",
       "      <th></th>\n",
       "      <th></th>\n",
       "      <th></th>\n",
       "      <th></th>\n",
       "      <th></th>\n",
       "      <th></th>\n",
       "    </tr>\n",
       "  </thead>\n",
       "  <tbody>\n",
       "    <tr>\n",
       "      <th>1990-03-01</th>\n",
       "      <td>1836.0</td>\n",
       "      <td>1838.0</td>\n",
       "      <td>1827.0</td>\n",
       "      <td>1832.0</td>\n",
       "      <td>1832.0</td>\n",
       "      <td>0</td>\n",
       "    </tr>\n",
       "    <tr>\n",
       "      <th>1990-03-02</th>\n",
       "      <td>1831.0</td>\n",
       "      <td>1860.0</td>\n",
       "      <td>1831.0</td>\n",
       "      <td>1860.0</td>\n",
       "      <td>1860.0</td>\n",
       "      <td>0</td>\n",
       "    </tr>\n",
       "    <tr>\n",
       "      <th>1990-03-05</th>\n",
       "      <td>1866.0</td>\n",
       "      <td>1874.0</td>\n",
       "      <td>1862.0</td>\n",
       "      <td>1874.0</td>\n",
       "      <td>1874.0</td>\n",
       "      <td>0</td>\n",
       "    </tr>\n",
       "    <tr>\n",
       "      <th>1990-03-06</th>\n",
       "      <td>1869.0</td>\n",
       "      <td>1875.0</td>\n",
       "      <td>1866.0</td>\n",
       "      <td>1872.0</td>\n",
       "      <td>1872.0</td>\n",
       "      <td>0</td>\n",
       "    </tr>\n",
       "    <tr>\n",
       "      <th>1990-03-07</th>\n",
       "      <td>1874.0</td>\n",
       "      <td>1881.0</td>\n",
       "      <td>1874.0</td>\n",
       "      <td>1880.0</td>\n",
       "      <td>1880.0</td>\n",
       "      <td>0</td>\n",
       "    </tr>\n",
       "  </tbody>\n",
       "</table>\n",
       "</div>"
      ],
      "text/plain": [
       "              Open    High     Low   Close  Adj Close  Volume\n",
       "Date                                                         \n",
       "1990-03-01  1836.0  1838.0  1827.0  1832.0     1832.0       0\n",
       "1990-03-02  1831.0  1860.0  1831.0  1860.0     1860.0       0\n",
       "1990-03-05  1866.0  1874.0  1862.0  1874.0     1874.0       0\n",
       "1990-03-06  1869.0  1875.0  1866.0  1872.0     1872.0       0\n",
       "1990-03-07  1874.0  1881.0  1874.0  1880.0     1880.0       0"
      ]
     },
     "execution_count": 3,
     "metadata": {},
     "output_type": "execute_result"
    }
   ],
   "source": [
    "data_cac40.head()"
   ]
  },
  {
   "cell_type": "code",
   "execution_count": 4,
   "id": "c751b3c4",
   "metadata": {},
   "outputs": [],
   "source": [
    "cols_to_drop = [c for c in data_cac40.columns if c != 'Close']\n",
    "data_cac40 = data_cac40.drop(columns=cols_to_drop).rename(columns={'Close': 'cac40_index'})"
   ]
  },
  {
   "cell_type": "markdown",
   "id": "e1e61776",
   "metadata": {},
   "source": [
    "#### Insert earlier data from 1987-12-31 to 2017-03-17"
   ]
  },
  {
   "cell_type": "code",
   "execution_count": 5,
   "id": "ce492ab7",
   "metadata": {},
   "outputs": [],
   "source": [
    "# https://www.bnains.org/archives/indices/CAC40.TXT\n",
    "with open('./cac40_data/CAC40.TXT') as f:\n",
    "    data_cac40_earlier = f.readlines()\n",
    "\n",
    "data_cac40_dates = [x.split('\\t')[0] for x in data_cac40_earlier[1:]]\n",
    "data_cac40_closing = [x.split('\\t')[-2] for x in data_cac40_earlier[1:]]\n",
    "\n",
    "df_data_cac40_earlier = pd.DataFrame({'cac40_index': data_cac40_closing},  index=data_cac40_dates)\n",
    "df_data_cac40_earlier.index = pd.to_datetime(df_data_cac40_earlier.index, dayfirst=True)"
   ]
  },
  {
   "cell_type": "code",
   "execution_count": 7,
   "id": "17bef2d3",
   "metadata": {},
   "outputs": [],
   "source": [
    "df_data_cac40_earlier = df_data_cac40_earlier.map(lambda x:float(x))"
   ]
  },
  {
   "cell_type": "code",
   "execution_count": 8,
   "id": "8bf83c07",
   "metadata": {},
   "outputs": [],
   "source": [
    "df_cac40 = pd.concat([df_data_cac40_earlier.loc[:'1990-02'], data_cac40], axis=0)"
   ]
  },
  {
   "cell_type": "code",
   "execution_count": 12,
   "id": "5eba2772",
   "metadata": {},
   "outputs": [],
   "source": [
    "df_cac40.to_pickle('./cac40_data/df_cac40.pkl')"
   ]
  },
  {
   "cell_type": "code",
   "execution_count": 13,
   "id": "52ae27ec",
   "metadata": {},
   "outputs": [],
   "source": [
    "df_cac40 = pd.read_pickle('./cac40_data/df_cac40.pkl')"
   ]
  },
  {
   "cell_type": "code",
   "execution_count": 15,
   "id": "b0292ee1",
   "metadata": {},
   "outputs": [
    {
     "data": {
      "text/html": [
       "<div>\n",
       "<style scoped>\n",
       "    .dataframe tbody tr th:only-of-type {\n",
       "        vertical-align: middle;\n",
       "    }\n",
       "\n",
       "    .dataframe tbody tr th {\n",
       "        vertical-align: top;\n",
       "    }\n",
       "\n",
       "    .dataframe thead th {\n",
       "        text-align: right;\n",
       "    }\n",
       "</style>\n",
       "<table border=\"1\" class=\"dataframe\">\n",
       "  <thead>\n",
       "    <tr style=\"text-align: right;\">\n",
       "      <th></th>\n",
       "      <th>cac40_index</th>\n",
       "    </tr>\n",
       "  </thead>\n",
       "  <tbody>\n",
       "    <tr>\n",
       "      <th>1987-12-31</th>\n",
       "      <td>1000.00</td>\n",
       "    </tr>\n",
       "    <tr>\n",
       "      <th>1988-01-04</th>\n",
       "      <td>984.64</td>\n",
       "    </tr>\n",
       "    <tr>\n",
       "      <th>1988-01-05</th>\n",
       "      <td>1021.17</td>\n",
       "    </tr>\n",
       "    <tr>\n",
       "      <th>1988-01-06</th>\n",
       "      <td>1028.05</td>\n",
       "    </tr>\n",
       "    <tr>\n",
       "      <th>1988-01-07</th>\n",
       "      <td>1024.08</td>\n",
       "    </tr>\n",
       "  </tbody>\n",
       "</table>\n",
       "</div>"
      ],
      "text/plain": [
       "            cac40_index\n",
       "1987-12-31      1000.00\n",
       "1988-01-04       984.64\n",
       "1988-01-05      1021.17\n",
       "1988-01-06      1028.05\n",
       "1988-01-07      1024.08"
      ]
     },
     "execution_count": 15,
     "metadata": {},
     "output_type": "execute_result"
    }
   ],
   "source": [
    "df_cac40.head()"
   ]
  },
  {
   "cell_type": "code",
   "execution_count": 14,
   "id": "d4966ada",
   "metadata": {},
   "outputs": [
    {
     "data": {
      "text/plain": [
       "<Axes: >"
      ]
     },
     "execution_count": 14,
     "metadata": {},
     "output_type": "execute_result"
    },
    {
     "data": {
      "image/png": "[encoded data removed]",
      "text/plain": [
       "<Figure size 640x480 with 1 Axes>"
      ]
     },
     "metadata": {},
     "output_type": "display_data"
    }
   ],
   "source": [
    "df_cac40.plot()"
   ]
  },
  {
   "cell_type": "code",
   "execution_count": null,
   "id": "d28ed9c2",
   "metadata": {},
   "outputs": [],
   "source": []
  },
  {
   "cell_type": "markdown",
   "id": "25b99445",
   "metadata": {},
   "source": [
    "### CAC40 constituents <a id='constit'></a>"
   ]
  },
  {
   "cell_type": "markdown",
   "id": "babdd8eb",
   "metadata": {},
   "source": [
    "Since CAC40 composition is changing over time, we only retrieve constituents from 20/09/2021 to today (~ 500 trading days).\n",
    "\n",
    "Note: on 16/06/2023, Vivendi(FR0000127771) was replaced by Edenred(FR0010908533), for the time being this replacement will not be considered in portfolio calculations."
   ]
  },
  {
   "cell_type": "markdown",
   "id": "52b40ad0",
   "metadata": {},
   "source": [
    "##### retrieving ISIN numbers"
   ]
  },
  {
   "cell_type": "code",
   "execution_count": 17,
   "id": "1ed053d4",
   "metadata": {},
   "outputs": [],
   "source": [
    "# https://www.bnains.org/archives/histocac/compocac.php\n",
    "with open('./cac40_data/CAC40_20092021.txt') as f:\n",
    "    isin_numbers = f.readlines()"
   ]
  },
  {
   "cell_type": "code",
   "execution_count": 18,
   "id": "01f7e332",
   "metadata": {},
   "outputs": [
    {
     "data": {
      "text/plain": [
       "['FR0000120073', 'NL0000235190', 'FR0010220475']"
      ]
     },
     "execution_count": 18,
     "metadata": {},
     "output_type": "execute_result"
    }
   ],
   "source": [
    "isin_numbers = [x.strip() for x in isin_numbers]\n",
    "isin_numbers[:3]"
   ]
  },
  {
   "cell_type": "markdown",
   "id": "c04acf17",
   "metadata": {},
   "source": [
    "##### converting ISIN numbers to Ticker symbols"
   ]
  },
  {
   "cell_type": "code",
   "execution_count": 19,
   "id": "4f72556f",
   "metadata": {},
   "outputs": [],
   "source": [
    "#https://quant.stackexchange.com/a/70155\n",
    "def get_symbol_for_isin(isin):\n",
    "    url = 'https://query1.finance.yahoo.com/v1/finance/search'\n",
    "    headers = {\n",
    "        'User-Agent': 'Mozilla/5.0 (Macintosh; Intel Mac OS X 10_15_7) AppleWebKit/537.36 (KHTML, like Gecko) Chrome/98.0.4758.109 Safari/537.36',\n",
    "    }\n",
    "    params = dict(\n",
    "        q=isin,\n",
    "        quotesCount=1,\n",
    "        newsCount=0,\n",
    "        listsCount=0,\n",
    "        quotesQueryId='tss_match_phrase_query'\n",
    "    )\n",
    "    resp = requests.get(url=url, headers=headers, params=params)\n",
    "    data = resp.json()\n",
    "    if 'quotes' in data and len(data['quotes']) > 0:\n",
    "        return data['quotes'][0]['symbol']\n",
    "    else:\n",
    "        return None"
   ]
  },
  {
   "cell_type": "code",
   "execution_count": 20,
   "id": "2a35e09e",
   "metadata": {},
   "outputs": [],
   "source": [
    "isin2ticker = {x:None for x in isin_numbers}"
   ]
  },
  {
   "cell_type": "code",
   "execution_count": 24,
   "id": "b19d9caa",
   "metadata": {},
   "outputs": [
    {
     "name": "stdout",
     "output_type": "stream",
     "text": [
      "LU0323134006 None\n",
      "FR0000124711 None\n"
     ]
    }
   ],
   "source": [
    "# run this cell several times as some requests are not always completed\n",
    "for x in isin_numbers:\n",
    "    if isin2ticker[x] == None:\n",
    "        isin2ticker[x] = get_symbol_for_isin(x)\n",
    "        print(x, get_symbol_for_isin(x))"
   ]
  },
  {
   "cell_type": "code",
   "execution_count": 25,
   "id": "e99b6d98",
   "metadata": {},
   "outputs": [
    {
     "data": {
      "text/plain": [
       "{'LU0323134006': None, 'FR0000124711': None}"
      ]
     },
     "execution_count": 25,
     "metadata": {},
     "output_type": "execute_result"
    }
   ],
   "source": [
    "{k:v for (k,v) in isin2ticker.items() if v == None}"
   ]
  },
  {
   "cell_type": "code",
   "execution_count": 26,
   "id": "a75033c5",
   "metadata": {},
   "outputs": [],
   "source": [
    "# manually add missing info\n",
    "isin2ticker['LU0323134006'] = 'MT'\n",
    "isin2ticker['FR0000124711'] = 'UNBLF'  "
   ]
  },
  {
   "cell_type": "code",
   "execution_count": 28,
   "id": "c04c6695",
   "metadata": {},
   "outputs": [
    {
     "data": {
      "text/plain": [
       "{'FR0000120073': 'AI.PA',\n",
       " 'NL0000235190': 'AIR.PA',\n",
       " 'FR0010220475': 'ALO.PA',\n",
       " 'LU0323134006': 'MT',\n",
       " 'FR0000120628': 'CS.PA',\n",
       " 'FR0000131104': 'BNP.PA',\n",
       " 'FR0000120503': 'EN.PA',\n",
       " 'FR0000125338': 'CAP.PA',\n",
       " 'FR0000120172': 'CA.PA',\n",
       " 'FR0000045072': 'ACA.PA',\n",
       " 'FR0000120644': 'BN.PA',\n",
       " 'FR0000130650': 'DSY.PA',\n",
       " 'FR0010208488': 'ENGI.PA',\n",
       " 'FR0000121667': 'EL.PA',\n",
       " 'FR0014000MR3': 'ERF.PA',\n",
       " 'FR0000052292': 'RMS.PA',\n",
       " 'FR0000121485': 'KER.PA',\n",
       " 'FR0000120321': 'OR.PA',\n",
       " 'FR0010307819': 'LR.PA',\n",
       " 'FR0000121014': 'MC.PA',\n",
       " 'FR0000121261': 'ML.PA',\n",
       " 'FR0000133308': 'ORA.PA',\n",
       " 'FR0000120693': 'RI.PA',\n",
       " 'FR0000130577': 'PUB.PA',\n",
       " 'FR0000131906': 'RNO.PA',\n",
       " 'FR0000073272': 'SAF.PA',\n",
       " 'FR0000125007': 'SGO.PA',\n",
       " 'FR0000120578': 'SAN.PA',\n",
       " 'FR0000121972': 'SU.PA',\n",
       " 'FR0000130809': 'GLE.PA',\n",
       " 'NL00150001Q9': 'STLAM.MI',\n",
       " 'NL0000226223': 'STMPA.PA',\n",
       " 'FR0000051807': 'TEP.PA',\n",
       " 'FR0000121329': 'HO.PA',\n",
       " 'FR0000120271': 'TTE.PA',\n",
       " 'FR0000124711': 'UNBLF',\n",
       " 'FR0000124141': 'VIE.PA',\n",
       " 'FR0000125486': 'DG.PA',\n",
       " 'FR0000127771': 'VIV.PA',\n",
       " 'FR0011981968': 'WLN.PA'}"
      ]
     },
     "execution_count": 28,
     "metadata": {},
     "output_type": "execute_result"
    }
   ],
   "source": [
    "isin2ticker"
   ]
  },
  {
   "cell_type": "code",
   "execution_count": 33,
   "id": "b037bd67",
   "metadata": {},
   "outputs": [],
   "source": [
    "with open('./cac40_data/isin2ticker.pkl', 'wb') as f:\n",
    "    pickle.dump(isin2ticker, f, protocol=pickle.HIGHEST_PROTOCOL)\n",
    "\n",
    "with open('./cac40_data/isin2ticker.pkl', 'rb') as f:\n",
    "    isin2ticker = pickle.load(f)"
   ]
  },
  {
   "cell_type": "code",
   "execution_count": 34,
   "id": "7698bb92",
   "metadata": {},
   "outputs": [],
   "source": [
    "all_tickers = ' '.join([x for x in isin2ticker.values()])"
   ]
  },
  {
   "cell_type": "markdown",
   "id": "5d2d02cb",
   "metadata": {},
   "source": [
    "##### stocks histories of prices"
   ]
  },
  {
   "cell_type": "code",
   "execution_count": 35,
   "id": "a9141052",
   "metadata": {
    "scrolled": true
   },
   "outputs": [
    {
     "name": "stdout",
     "output_type": "stream",
     "text": [
      "AI.PA\n",
      "[*********************100%%**********************]  1 of 1 completed\n",
      "AIR.PA\n",
      "[*********************100%%**********************]  1 of 1 completed\n",
      "ALO.PA\n",
      "[*********************100%%**********************]  1 of 1 completed\n",
      "MT\n",
      "[*********************100%%**********************]  1 of 1 completed\n",
      "CS.PA\n",
      "[*********************100%%**********************]  1 of 1 completed\n",
      "BNP.PA\n",
      "[*********************100%%**********************]  1 of 1 completed\n",
      "EN.PA\n",
      "[*********************100%%**********************]  1 of 1 completed\n",
      "CAP.PA\n",
      "[*********************100%%**********************]  1 of 1 completed\n",
      "CA.PA\n",
      "[*********************100%%**********************]  1 of 1 completed\n",
      "ACA.PA\n",
      "[*********************100%%**********************]  1 of 1 completed\n",
      "BN.PA\n",
      "[*********************100%%**********************]  1 of 1 completed\n",
      "DSY.PA\n",
      "[*********************100%%**********************]  1 of 1 completed\n",
      "ENGI.PA\n",
      "[*********************100%%**********************]  1 of 1 completed\n",
      "EL.PA\n",
      "[*********************100%%**********************]  1 of 1 completed\n",
      "ERF.PA\n",
      "[*********************100%%**********************]  1 of 1 completed\n",
      "RMS.PA\n",
      "[*********************100%%**********************]  1 of 1 completed\n",
      "KER.PA\n",
      "[*********************100%%**********************]  1 of 1 completed\n",
      "OR.PA\n",
      "[*********************100%%**********************]  1 of 1 completed\n",
      "LR.PA\n",
      "[*********************100%%**********************]  1 of 1 completed\n",
      "MC.PA\n",
      "[*********************100%%**********************]  1 of 1 completed\n",
      "ML.PA\n",
      "[*********************100%%**********************]  1 of 1 completed\n",
      "ORA.PA\n",
      "[*********************100%%**********************]  1 of 1 completed\n",
      "RI.PA\n",
      "[*********************100%%**********************]  1 of 1 completed\n",
      "PUB.PA\n",
      "[*********************100%%**********************]  1 of 1 completed\n",
      "RNO.PA\n",
      "[*********************100%%**********************]  1 of 1 completed\n",
      "SAF.PA\n",
      "[*********************100%%**********************]  1 of 1 completed\n",
      "SGO.PA\n",
      "[*********************100%%**********************]  1 of 1 completed\n",
      "SAN.PA\n",
      "[*********************100%%**********************]  1 of 1 completed\n",
      "SU.PA\n",
      "[*********************100%%**********************]  1 of 1 completed\n",
      "GLE.PA\n",
      "[*********************100%%**********************]  1 of 1 completed\n",
      "STLAM.MI\n",
      "[*********************100%%**********************]  1 of 1 completed\n",
      "STMPA.PA\n",
      "[*********************100%%**********************]  1 of 1 completed\n",
      "TEP.PA\n",
      "[*********************100%%**********************]  1 of 1 completed\n",
      "HO.PA\n",
      "[*********************100%%**********************]  1 of 1 completed\n",
      "TTE.PA\n",
      "[*********************100%%**********************]  1 of 1 completed\n",
      "UNBLF\n",
      "[*********************100%%**********************]  1 of 1 completed\n",
      "VIE.PA\n",
      "[*********************100%%**********************]  1 of 1 completed\n",
      "DG.PA\n",
      "[*********************100%%**********************]  1 of 1 completed\n",
      "VIV.PA\n",
      "[*********************100%%**********************]  1 of 1 completed\n",
      "WLN.PA\n",
      "[*********************100%%**********************]  1 of 1 completed\n"
     ]
    }
   ],
   "source": [
    "dfs = []\n",
    "for ticker in list(isin2ticker.values()):\n",
    "    print(ticker)\n",
    "    data = yf.download(ticker, start=\"2021-09-20\", end=\"2023-09-08\")\n",
    "    # keep clodsing price only\n",
    "    cols_to_drop = [c for c in data.columns if c != 'Close']\n",
    "    dfs.append(data.drop(columns=cols_to_drop).rename(columns={'Close': ticker}))#.isna().value_counts()"
   ]
  },
  {
   "cell_type": "code",
   "execution_count": 43,
   "id": "b7845357",
   "metadata": {},
   "outputs": [],
   "source": [
    "df_cac40_stocks = pd.concat(dfs, axis=1)\n",
    "# Some prices are missing: fill NAs with previous value\n",
    "df_cac40_stocks.ffill(inplace=True)"
   ]
  },
  {
   "cell_type": "code",
   "execution_count": 44,
   "id": "acc1b962",
   "metadata": {},
   "outputs": [],
   "source": [
    "df_cac40_stocks.to_pickle('./cac40_data/df_cac40_stocks.pkl')\n",
    "\n",
    "df_cac40_stocks = pd.read_pickle('./cac40_data/df_cac40_stocks.pkl')"
   ]
  },
  {
   "cell_type": "markdown",
   "id": "99fa0881",
   "metadata": {},
   "source": [
    "##### stocks returns"
   ]
  },
  {
   "cell_type": "code",
   "execution_count": 45,
   "id": "8fc7aafe",
   "metadata": {},
   "outputs": [],
   "source": [
    "df_returns = df_cac40_stocks.pct_change()"
   ]
  },
  {
   "cell_type": "code",
   "execution_count": 40,
   "id": "aacc77fe",
   "metadata": {},
   "outputs": [
    {
     "data": {
      "text/html": [
       "<div>\n",
       "<style scoped>\n",
       "    .dataframe tbody tr th:only-of-type {\n",
       "        vertical-align: middle;\n",
       "    }\n",
       "\n",
       "    .dataframe tbody tr th {\n",
       "        vertical-align: top;\n",
       "    }\n",
       "\n",
       "    .dataframe thead th {\n",
       "        text-align: right;\n",
       "    }\n",
       "</style>\n",
       "<table border=\"1\" class=\"dataframe\">\n",
       "  <thead>\n",
       "    <tr style=\"text-align: right;\">\n",
       "      <th></th>\n",
       "      <th>AI.PA</th>\n",
       "      <th>AIR.PA</th>\n",
       "      <th>ALO.PA</th>\n",
       "      <th>MT</th>\n",
       "      <th>CS.PA</th>\n",
       "      <th>BNP.PA</th>\n",
       "      <th>EN.PA</th>\n",
       "      <th>CAP.PA</th>\n",
       "      <th>CA.PA</th>\n",
       "      <th>ACA.PA</th>\n",
       "      <th>...</th>\n",
       "      <th>STLAM.MI</th>\n",
       "      <th>STMPA.PA</th>\n",
       "      <th>TEP.PA</th>\n",
       "      <th>HO.PA</th>\n",
       "      <th>TTE.PA</th>\n",
       "      <th>UNBLF</th>\n",
       "      <th>VIE.PA</th>\n",
       "      <th>DG.PA</th>\n",
       "      <th>VIV.PA</th>\n",
       "      <th>WLN.PA</th>\n",
       "    </tr>\n",
       "    <tr>\n",
       "      <th>Date</th>\n",
       "      <th></th>\n",
       "      <th></th>\n",
       "      <th></th>\n",
       "      <th></th>\n",
       "      <th></th>\n",
       "      <th></th>\n",
       "      <th></th>\n",
       "      <th></th>\n",
       "      <th></th>\n",
       "      <th></th>\n",
       "      <th></th>\n",
       "      <th></th>\n",
       "      <th></th>\n",
       "      <th></th>\n",
       "      <th></th>\n",
       "      <th></th>\n",
       "      <th></th>\n",
       "      <th></th>\n",
       "      <th></th>\n",
       "      <th></th>\n",
       "      <th></th>\n",
       "    </tr>\n",
       "  </thead>\n",
       "  <tbody>\n",
       "    <tr>\n",
       "      <th>2021-09-20</th>\n",
       "      <td>NaN</td>\n",
       "      <td>NaN</td>\n",
       "      <td>NaN</td>\n",
       "      <td>NaN</td>\n",
       "      <td>NaN</td>\n",
       "      <td>NaN</td>\n",
       "      <td>NaN</td>\n",
       "      <td>NaN</td>\n",
       "      <td>NaN</td>\n",
       "      <td>NaN</td>\n",
       "      <td>...</td>\n",
       "      <td>NaN</td>\n",
       "      <td>NaN</td>\n",
       "      <td>NaN</td>\n",
       "      <td>NaN</td>\n",
       "      <td>NaN</td>\n",
       "      <td>NaN</td>\n",
       "      <td>NaN</td>\n",
       "      <td>NaN</td>\n",
       "      <td>NaN</td>\n",
       "      <td>NaN</td>\n",
       "    </tr>\n",
       "    <tr>\n",
       "      <th>2021-09-21</th>\n",
       "      <td>0.021195</td>\n",
       "      <td>0.011971</td>\n",
       "      <td>0.000959</td>\n",
       "      <td>-0.008506</td>\n",
       "      <td>0.011399</td>\n",
       "      <td>0.004106</td>\n",
       "      <td>0.001975</td>\n",
       "      <td>0.024610</td>\n",
       "      <td>0.009215</td>\n",
       "      <td>-0.000892</td>\n",
       "      <td>...</td>\n",
       "      <td>-0.001619</td>\n",
       "      <td>0.013991</td>\n",
       "      <td>0.029605</td>\n",
       "      <td>0.002707</td>\n",
       "      <td>0.006606</td>\n",
       "      <td>0.000000</td>\n",
       "      <td>-0.011418</td>\n",
       "      <td>0.015668</td>\n",
       "      <td>-0.170157</td>\n",
       "      <td>0.00060</td>\n",
       "    </tr>\n",
       "    <tr>\n",
       "      <th>2021-09-22</th>\n",
       "      <td>0.000692</td>\n",
       "      <td>0.022599</td>\n",
       "      <td>0.011821</td>\n",
       "      <td>0.021963</td>\n",
       "      <td>0.018564</td>\n",
       "      <td>0.035047</td>\n",
       "      <td>0.015766</td>\n",
       "      <td>-0.002066</td>\n",
       "      <td>0.021644</td>\n",
       "      <td>0.032679</td>\n",
       "      <td>...</td>\n",
       "      <td>0.032435</td>\n",
       "      <td>0.007350</td>\n",
       "      <td>-0.005325</td>\n",
       "      <td>0.009325</td>\n",
       "      <td>0.025594</td>\n",
       "      <td>-0.008505</td>\n",
       "      <td>0.000745</td>\n",
       "      <td>0.011230</td>\n",
       "      <td>0.021429</td>\n",
       "      <td>0.01408</td>\n",
       "    </tr>\n",
       "  </tbody>\n",
       "</table>\n",
       "<p>3 rows × 40 columns</p>\n",
       "</div>"
      ],
      "text/plain": [
       "               AI.PA    AIR.PA    ALO.PA        MT     CS.PA    BNP.PA  \\\n",
       "Date                                                                     \n",
       "2021-09-20       NaN       NaN       NaN       NaN       NaN       NaN   \n",
       "2021-09-21  0.021195  0.011971  0.000959 -0.008506  0.011399  0.004106   \n",
       "2021-09-22  0.000692  0.022599  0.011821  0.021963  0.018564  0.035047   \n",
       "\n",
       "               EN.PA    CAP.PA     CA.PA    ACA.PA  ...  STLAM.MI  STMPA.PA  \\\n",
       "Date                                                ...                       \n",
       "2021-09-20       NaN       NaN       NaN       NaN  ...       NaN       NaN   \n",
       "2021-09-21  0.001975  0.024610  0.009215 -0.000892  ... -0.001619  0.013991   \n",
       "2021-09-22  0.015766 -0.002066  0.021644  0.032679  ...  0.032435  0.007350   \n",
       "\n",
       "              TEP.PA     HO.PA    TTE.PA     UNBLF    VIE.PA     DG.PA  \\\n",
       "Date                                                                     \n",
       "2021-09-20       NaN       NaN       NaN       NaN       NaN       NaN   \n",
       "2021-09-21  0.029605  0.002707  0.006606  0.000000 -0.011418  0.015668   \n",
       "2021-09-22 -0.005325  0.009325  0.025594 -0.008505  0.000745  0.011230   \n",
       "\n",
       "              VIV.PA   WLN.PA  \n",
       "Date                           \n",
       "2021-09-20       NaN      NaN  \n",
       "2021-09-21 -0.170157  0.00060  \n",
       "2021-09-22  0.021429  0.01408  \n",
       "\n",
       "[3 rows x 40 columns]"
      ]
     },
     "execution_count": 40,
     "metadata": {},
     "output_type": "execute_result"
    }
   ],
   "source": [
    "df_returns.head(3)"
   ]
  },
  {
   "cell_type": "code",
   "execution_count": 41,
   "id": "93cd66b5",
   "metadata": {
    "scrolled": true
   },
   "outputs": [
    {
     "data": {
      "text/html": [
       "<div>\n",
       "<style scoped>\n",
       "    .dataframe tbody tr th:only-of-type {\n",
       "        vertical-align: middle;\n",
       "    }\n",
       "\n",
       "    .dataframe tbody tr th {\n",
       "        vertical-align: top;\n",
       "    }\n",
       "\n",
       "    .dataframe thead th {\n",
       "        text-align: right;\n",
       "    }\n",
       "</style>\n",
       "<table border=\"1\" class=\"dataframe\">\n",
       "  <thead>\n",
       "    <tr style=\"text-align: right;\">\n",
       "      <th></th>\n",
       "      <th>0</th>\n",
       "      <th>1</th>\n",
       "    </tr>\n",
       "  </thead>\n",
       "  <tbody>\n",
       "    <tr>\n",
       "      <th>AI.PA</th>\n",
       "      <td>-0.043437</td>\n",
       "      <td>0.066656</td>\n",
       "    </tr>\n",
       "    <tr>\n",
       "      <th>AIR.PA</th>\n",
       "      <td>-0.114912</td>\n",
       "      <td>0.095719</td>\n",
       "    </tr>\n",
       "    <tr>\n",
       "      <th>ALO.PA</th>\n",
       "      <td>-0.104472</td>\n",
       "      <td>0.097492</td>\n",
       "    </tr>\n",
       "    <tr>\n",
       "      <th>MT</th>\n",
       "      <td>-0.089103</td>\n",
       "      <td>0.116402</td>\n",
       "    </tr>\n",
       "    <tr>\n",
       "      <th>CS.PA</th>\n",
       "      <td>-0.076190</td>\n",
       "      <td>0.078662</td>\n",
       "    </tr>\n",
       "    <tr>\n",
       "      <th>BNP.PA</th>\n",
       "      <td>-0.101071</td>\n",
       "      <td>0.099540</td>\n",
       "    </tr>\n",
       "    <tr>\n",
       "      <th>EN.PA</th>\n",
       "      <td>-0.064982</td>\n",
       "      <td>0.048789</td>\n",
       "    </tr>\n",
       "    <tr>\n",
       "      <th>CAP.PA</th>\n",
       "      <td>-0.070156</td>\n",
       "      <td>0.085823</td>\n",
       "    </tr>\n",
       "    <tr>\n",
       "      <th>CA.PA</th>\n",
       "      <td>-0.071624</td>\n",
       "      <td>0.084957</td>\n",
       "    </tr>\n",
       "    <tr>\n",
       "      <th>ACA.PA</th>\n",
       "      <td>-0.100570</td>\n",
       "      <td>0.090687</td>\n",
       "    </tr>\n",
       "    <tr>\n",
       "      <th>BN.PA</th>\n",
       "      <td>-0.046569</td>\n",
       "      <td>0.076243</td>\n",
       "    </tr>\n",
       "    <tr>\n",
       "      <th>DSY.PA</th>\n",
       "      <td>-0.074441</td>\n",
       "      <td>0.123906</td>\n",
       "    </tr>\n",
       "    <tr>\n",
       "      <th>ENGI.PA</th>\n",
       "      <td>-0.131904</td>\n",
       "      <td>0.072873</td>\n",
       "    </tr>\n",
       "    <tr>\n",
       "      <th>EL.PA</th>\n",
       "      <td>-0.051037</td>\n",
       "      <td>0.087278</td>\n",
       "    </tr>\n",
       "    <tr>\n",
       "      <th>ERF.PA</th>\n",
       "      <td>-0.121212</td>\n",
       "      <td>0.078937</td>\n",
       "    </tr>\n",
       "    <tr>\n",
       "      <th>RMS.PA</th>\n",
       "      <td>-0.065414</td>\n",
       "      <td>0.083295</td>\n",
       "    </tr>\n",
       "    <tr>\n",
       "      <th>KER.PA</th>\n",
       "      <td>-0.075625</td>\n",
       "      <td>0.085202</td>\n",
       "    </tr>\n",
       "    <tr>\n",
       "      <th>OR.PA</th>\n",
       "      <td>-0.058019</td>\n",
       "      <td>0.084374</td>\n",
       "    </tr>\n",
       "    <tr>\n",
       "      <th>LR.PA</th>\n",
       "      <td>-0.054404</td>\n",
       "      <td>0.055721</td>\n",
       "    </tr>\n",
       "    <tr>\n",
       "      <th>MC.PA</th>\n",
       "      <td>-0.064140</td>\n",
       "      <td>0.095437</td>\n",
       "    </tr>\n",
       "    <tr>\n",
       "      <th>ML.PA</th>\n",
       "      <td>-0.076259</td>\n",
       "      <td>0.097992</td>\n",
       "    </tr>\n",
       "    <tr>\n",
       "      <th>ORA.PA</th>\n",
       "      <td>-0.033954</td>\n",
       "      <td>0.064581</td>\n",
       "    </tr>\n",
       "    <tr>\n",
       "      <th>RI.PA</th>\n",
       "      <td>-0.067422</td>\n",
       "      <td>0.070622</td>\n",
       "    </tr>\n",
       "    <tr>\n",
       "      <th>PUB.PA</th>\n",
       "      <td>-0.074210</td>\n",
       "      <td>0.080000</td>\n",
       "    </tr>\n",
       "    <tr>\n",
       "      <th>RNO.PA</th>\n",
       "      <td>-0.112299</td>\n",
       "      <td>0.116753</td>\n",
       "    </tr>\n",
       "    <tr>\n",
       "      <th>SAF.PA</th>\n",
       "      <td>-0.102610</td>\n",
       "      <td>0.094605</td>\n",
       "    </tr>\n",
       "    <tr>\n",
       "      <th>SGO.PA</th>\n",
       "      <td>-0.086825</td>\n",
       "      <td>0.088585</td>\n",
       "    </tr>\n",
       "    <tr>\n",
       "      <th>SAN.PA</th>\n",
       "      <td>-0.081797</td>\n",
       "      <td>0.061014</td>\n",
       "    </tr>\n",
       "    <tr>\n",
       "      <th>SU.PA</th>\n",
       "      <td>-0.052832</td>\n",
       "      <td>0.083706</td>\n",
       "    </tr>\n",
       "    <tr>\n",
       "      <th>GLE.PA</th>\n",
       "      <td>-0.121757</td>\n",
       "      <td>0.115330</td>\n",
       "    </tr>\n",
       "    <tr>\n",
       "      <th>STLAM.MI</th>\n",
       "      <td>-0.076070</td>\n",
       "      <td>0.122796</td>\n",
       "    </tr>\n",
       "    <tr>\n",
       "      <th>STMPA.PA</th>\n",
       "      <td>-0.087234</td>\n",
       "      <td>0.099664</td>\n",
       "    </tr>\n",
       "    <tr>\n",
       "      <th>TEP.PA</th>\n",
       "      <td>-0.339031</td>\n",
       "      <td>0.100148</td>\n",
       "    </tr>\n",
       "    <tr>\n",
       "      <th>HO.PA</th>\n",
       "      <td>-0.086284</td>\n",
       "      <td>0.118721</td>\n",
       "    </tr>\n",
       "    <tr>\n",
       "      <th>TTE.PA</th>\n",
       "      <td>-0.064181</td>\n",
       "      <td>0.081736</td>\n",
       "    </tr>\n",
       "    <tr>\n",
       "      <th>UNBLF</th>\n",
       "      <td>-0.128182</td>\n",
       "      <td>0.115317</td>\n",
       "    </tr>\n",
       "    <tr>\n",
       "      <th>VIE.PA</th>\n",
       "      <td>-0.083091</td>\n",
       "      <td>0.122616</td>\n",
       "    </tr>\n",
       "    <tr>\n",
       "      <th>DG.PA</th>\n",
       "      <td>-0.084450</td>\n",
       "      <td>0.074236</td>\n",
       "    </tr>\n",
       "    <tr>\n",
       "      <th>VIV.PA</th>\n",
       "      <td>-0.170157</td>\n",
       "      <td>0.063212</td>\n",
       "    </tr>\n",
       "    <tr>\n",
       "      <th>WLN.PA</th>\n",
       "      <td>-0.159278</td>\n",
       "      <td>0.137582</td>\n",
       "    </tr>\n",
       "  </tbody>\n",
       "</table>\n",
       "</div>"
      ],
      "text/plain": [
       "                 0         1\n",
       "AI.PA    -0.043437  0.066656\n",
       "AIR.PA   -0.114912  0.095719\n",
       "ALO.PA   -0.104472  0.097492\n",
       "MT       -0.089103  0.116402\n",
       "CS.PA    -0.076190  0.078662\n",
       "BNP.PA   -0.101071  0.099540\n",
       "EN.PA    -0.064982  0.048789\n",
       "CAP.PA   -0.070156  0.085823\n",
       "CA.PA    -0.071624  0.084957\n",
       "ACA.PA   -0.100570  0.090687\n",
       "BN.PA    -0.046569  0.076243\n",
       "DSY.PA   -0.074441  0.123906\n",
       "ENGI.PA  -0.131904  0.072873\n",
       "EL.PA    -0.051037  0.087278\n",
       "ERF.PA   -0.121212  0.078937\n",
       "RMS.PA   -0.065414  0.083295\n",
       "KER.PA   -0.075625  0.085202\n",
       "OR.PA    -0.058019  0.084374\n",
       "LR.PA    -0.054404  0.055721\n",
       "MC.PA    -0.064140  0.095437\n",
       "ML.PA    -0.076259  0.097992\n",
       "ORA.PA   -0.033954  0.064581\n",
       "RI.PA    -0.067422  0.070622\n",
       "PUB.PA   -0.074210  0.080000\n",
       "RNO.PA   -0.112299  0.116753\n",
       "SAF.PA   -0.102610  0.094605\n",
       "SGO.PA   -0.086825  0.088585\n",
       "SAN.PA   -0.081797  0.061014\n",
       "SU.PA    -0.052832  0.083706\n",
       "GLE.PA   -0.121757  0.115330\n",
       "STLAM.MI -0.076070  0.122796\n",
       "STMPA.PA -0.087234  0.099664\n",
       "TEP.PA   -0.339031  0.100148\n",
       "HO.PA    -0.086284  0.118721\n",
       "TTE.PA   -0.064181  0.081736\n",
       "UNBLF    -0.128182  0.115317\n",
       "VIE.PA   -0.083091  0.122616\n",
       "DG.PA    -0.084450  0.074236\n",
       "VIV.PA   -0.170157  0.063212\n",
       "WLN.PA   -0.159278  0.137582"
      ]
     },
     "execution_count": 41,
     "metadata": {},
     "output_type": "execute_result"
    }
   ],
   "source": [
    "# rapid check for anomalies in returns\n",
    "pd.DataFrame([df_returns.min(), df_returns.max()]).T"
   ]
  }
 ],
 "metadata": {
  "kernelspec": {
   "display_name": "finances",
   "language": "python",
   "name": "finances"
  },
  "language_info": {
   "codemirror_mode": {
    "name": "ipython",
    "version": 3
   },
   "file_extension": ".py",
   "mimetype": "text/x-python",
   "name": "python",
   "nbconvert_exporter": "python",
   "pygments_lexer": "ipython3",
   "version": "3.11.4"
  }
 },
 "nbformat": 4,
 "nbformat_minor": 5
}
