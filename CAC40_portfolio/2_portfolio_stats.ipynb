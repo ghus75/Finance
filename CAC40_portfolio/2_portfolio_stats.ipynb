{
 "cells": [
  {
   "cell_type": "markdown",
   "id": "b175f0bf",
   "metadata": {},
   "source": [
    "# Portfolio summary statistics"
   ]
  },
  {
   "cell_type": "markdown",
   "id": "d5498bd5",
   "metadata": {},
   "source": [
    "[Returns and volatility](#r_vol)\n",
    "- [Annualized return](#r_ann)\n",
    "- [Annualized volatility](#vol_ann)\n",
    "- [Sharpe ratio](#sharpe)\n",
    "- [Covariance matrix](#cov)\n",
    "- [Drawdown](#dd)\n",
    "\n",
    "[Distribution of Returns](#distrib)\n",
    "- [Skewness](#skew)\n",
    "- [Kurtosis](#kurt)\n",
    "- [Value at Risk](#VaR)\n",
    "    - [Historic VaR](#hVaR)\n",
    "    - [Gaussian VaR](#gVaR)\n",
    "    - [Cornish-Fisher VaR](#cfVaR)\n",
    "    - [Conditional VaR (expected shortfall)](#CVaR)\n",
    "\n",
    "[Summary stats](#summary)\n",
    "\n",
    "[Testing the module](#mod)"
   ]
  },
  {
   "cell_type": "code",
   "execution_count": 1,
   "id": "1c2dfd26",
   "metadata": {},
   "outputs": [],
   "source": [
    "import pandas as pd\n",
    "import numpy as np"
   ]
  },
  {
   "cell_type": "markdown",
   "id": "64edbfc5",
   "metadata": {},
   "source": [
    "---"
   ]
  },
  {
   "cell_type": "code",
   "execution_count": 2,
   "id": "8e0d6e40",
   "metadata": {},
   "outputs": [],
   "source": [
    "df_cac40 = pd.read_pickle('./cac40_data/df_cac40.pkl')\n",
    "df_cac40_rets = df_cac40.pct_change().dropna() # drop 1st line containing NaNs\n",
    "\n",
    "df_cac40_stocks = pd.read_pickle('./cac40_data/df_cac40_stocks.pkl')\n",
    "df_cac40_stocks_rets = df_cac40_stocks.pct_change().dropna()"
   ]
  },
  {
   "cell_type": "markdown",
   "id": "8c51f371",
   "metadata": {},
   "source": [
    "## Returns and volatility <a id='r_vol'></a>"
   ]
  },
  {
   "cell_type": "markdown",
   "id": "33657cac",
   "metadata": {},
   "source": [
    "### Annualized return  <a id='r_ann'></a>\n",
    "\n",
    "$\\Pi_{i=1}^N (1+r_i)$ is the compounded growth over N days, where $r_i$ is the daily returns for day $i$ .\n",
    "\n",
    "If $N=252$ (1 year), then the annualized return $r_{ann}$ verifies: $1+r_{ann}=\\Pi_{i=1}^N (1+r_i)$\n",
    "\n",
    "For $N = 2\\times252$ days (2 years), then daily growth is compounded $2$ years, such that: $(1+r_{ann})^2=\\Pi_{i=1}^{N} (1+r_i)$\n",
    "\n",
    "For $N = x\\times252$ days (x years), then daily growth is compounded $x$ years, such that: $(1+r_{ann})^x=\\Pi_{i=1}^{N} (1+r_i)$. \n",
    "\n",
    "Substituting $x$ for $N$, the annualized return can also be written :$(1+r_{ann})^{N/252}=\\Pi_{i=1}^{N} (1+r_i)$, or: $$r_{ann}=(\\Pi_{i=1}^{N} (1+r_i))^{252/N} - 1$$\n"
   ]
  },
  {
   "cell_type": "code",
   "execution_count": 3,
   "id": "dfc59a49",
   "metadata": {},
   "outputs": [],
   "source": [
    "def annualize_rets(r, periods_per_year):\n",
    "    \"\"\"\n",
    "    Annualizes a set of returns\n",
    "    r is either a pandas DataFrame or a pandas Series containing a time history of returns\n",
    "    periods_per_year = 252 for daily returns, 12 for monthly returns, etc.\n",
    "    \"\"\"\n",
    "    compounded_growth = (1+r).prod()\n",
    "    n_periods = r.shape[0]\n",
    "    return compounded_growth**(periods_per_year/n_periods) - 1"
   ]
  },
  {
   "cell_type": "code",
   "execution_count": 4,
   "id": "308cb8d0",
   "metadata": {},
   "outputs": [
    {
     "data": {
      "text/plain": [
       "AI.PA     0.132839\n",
       "AIR.PA    0.102659\n",
       "ALO.PA   -0.122198\n",
       "dtype: float64"
      ]
     },
     "execution_count": 4,
     "metadata": {},
     "output_type": "execute_result"
    }
   ],
   "source": [
    "rets = annualize_rets(df_cac40_stocks_rets, 252) # annualized returns for each asset\n",
    "rets.head(3)"
   ]
  },
  {
   "cell_type": "markdown",
   "id": "2a4cb3b9",
   "metadata": {},
   "source": [
    "##### Using annualized returns to calculate portfolio's return"
   ]
  },
  {
   "cell_type": "code",
   "execution_count": 5,
   "id": "cb79f2c7",
   "metadata": {},
   "outputs": [],
   "source": [
    "def portfolio_return(weights, returns):\n",
    "    \"\"\"\n",
    "    Computes the return on a portfolio from constituent returns and weights.\n",
    "    weights are a numpy array or Nx1 matrix and returns are a numpy array or Nx1 matrix.\n",
    "    \"\"\"\n",
    "    return weights.T @ returns\n"
   ]
  },
  {
   "cell_type": "markdown",
   "id": "915d161a",
   "metadata": {},
   "source": [
    "Equal weights portfolio return"
   ]
  },
  {
   "cell_type": "code",
   "execution_count": 6,
   "id": "09a88db6",
   "metadata": {},
   "outputs": [
    {
     "data": {
      "text/plain": [
       "0.0030221789893275317"
      ]
     },
     "execution_count": 6,
     "metadata": {},
     "output_type": "execute_result"
    }
   ],
   "source": [
    "n = rets.shape[0]\n",
    "weights = np.repeat(1/n, n) # equal weights\n",
    "portfolio_return(weights, rets)"
   ]
  },
  {
   "cell_type": "markdown",
   "id": "ff081324",
   "metadata": {},
   "source": [
    "### Annualized volatility  <a id='vol_ann'></a>\n",
    "Price is continuously compounded : $P_t=P_{t-1}e^{r_t}$, where $r_t \\sim N(\\mu,\\sigma^2)$, so $P_t$ follows a **geometric** random walk.\n",
    "\n",
    "However, return $r_t = \\mu + \\epsilon_t$ (where $\\epsilon \\sim N(0,\\sigma^2)$) follows an **arithmetic** random walk.\n",
    "\n",
    "Therefore all random walks of $r$ are independent, so that for 2 random walks: $\\text{Var}(r_t + r_{t'}) = \\text{Var}(r_t) + \\text{Var}(r_{t'}) + 2\\text{Cov}(r_t, r_{t'}) = \\sigma^2 + \\sigma^2 = 2\\sigma^2$\n",
    "\n",
    "And more generally, $\\text{Var}(r_{1}+...+r_{T}) = T\\sigma^2$ leading to $$\\sigma_T = \\sqrt{T}\\sigma$$"
   ]
  },
  {
   "cell_type": "code",
   "execution_count": 7,
   "id": "1b71c55e",
   "metadata": {},
   "outputs": [],
   "source": [
    "def annualize_vol(r, periods_per_year):\n",
    "    \"\"\"\n",
    "    Annualizes the volatility of a set of returns.\n",
    "    \"\"\"\n",
    "    return r.std()*(periods_per_year**0.5)"
   ]
  },
  {
   "cell_type": "code",
   "execution_count": 8,
   "id": "b7508ebc",
   "metadata": {},
   "outputs": [
    {
     "data": {
      "text/plain": [
       "AI.PA     0.209176\n",
       "AIR.PA    0.316367\n",
       "ALO.PA    0.393407\n",
       "dtype: float64"
      ]
     },
     "execution_count": 8,
     "metadata": {},
     "output_type": "execute_result"
    }
   ],
   "source": [
    "vols = annualize_vol(df_cac40_stocks_rets, 252) # annualized volatilities for each asset\n",
    "vols.head(3)"
   ]
  },
  {
   "cell_type": "markdown",
   "id": "264fc3ee",
   "metadata": {},
   "source": [
    "### Sharpe ratio  <a id='sharpe'></a>\n",
    "Sharpe ratio measures return over risk using annualized quantities:\n",
    "$$\\lambda=\\frac{r_{ann} - r_{riskfree}}{\\sigma_{ann}}$$"
   ]
  },
  {
   "cell_type": "code",
   "execution_count": 9,
   "id": "6903bc0f",
   "metadata": {},
   "outputs": [],
   "source": [
    "def sharpe_ratio(r, annual_riskfree_rate, periods_per_year):\n",
    "    \"\"\"\n",
    "    Computes the annualized sharpe ratio of a set of returns.\n",
    "    r is given for an arbitrary period, while risk free rate is ususally already annualized\n",
    "    \"\"\"\n",
    "    # convert the annual riskfree rate to per period,\n",
    "    # amounts to reversing the annualization operation\n",
    "    rf_per_period = (1+annual_riskfree_rate)**(1/periods_per_year)-1\n",
    "    # difference r-rf can now be calculated since both r and rf have the same time resolution\n",
    "    excess_ret = r - rf_per_period\n",
    "    # Now, re-annualize enverything:\n",
    "    # annualize (r-rf)\n",
    "    ann_ex_ret = annualize_rets(excess_ret, periods_per_year)\n",
    "    # annualize volatility\n",
    "    ann_vol = annualize_vol(r, periods_per_year)\n",
    "    return ann_ex_ret/ann_vol"
   ]
  },
  {
   "cell_type": "code",
   "execution_count": 10,
   "id": "20330760",
   "metadata": {},
   "outputs": [
    {
     "data": {
      "text/plain": [
       "AI.PA     0.635061\n",
       "AIR.PA    0.324493\n",
       "ALO.PA   -0.310616\n",
       "dtype: float64"
      ]
     },
     "execution_count": 10,
     "metadata": {},
     "output_type": "execute_result"
    }
   ],
   "source": [
    "sharpe = sharpe_ratio(df_cac40_stocks_rets, 0, 252)\n",
    "sharpe.head(3)"
   ]
  },
  {
   "cell_type": "markdown",
   "id": "977fe750",
   "metadata": {},
   "source": [
    "### Covariance matrix  <a id='cov'></a>"
   ]
  },
  {
   "cell_type": "code",
   "execution_count": 11,
   "id": "3aed1d58",
   "metadata": {},
   "outputs": [],
   "source": [
    "cov = df_cac40_stocks_rets.cov() # covariance matrix of assets returns"
   ]
  },
  {
   "cell_type": "markdown",
   "id": "f91b8a1f",
   "metadata": {},
   "source": [
    "##### Using covariance matrix to calculate portfolio's volatility"
   ]
  },
  {
   "cell_type": "code",
   "execution_count": 12,
   "id": "2c5d6572",
   "metadata": {},
   "outputs": [],
   "source": [
    "def portfolio_vol(weights, covmat):\n",
    "    \"\"\"\n",
    "    Computes the vol of a portfolio from a covariance matrix and constituent weights.\n",
    "    weights are a numpy array or N x 1 maxtrix and covmat is an N x N matrix.\n",
    "    \"\"\"\n",
    "    return (weights.T @ covmat @ weights)**0.5"
   ]
  },
  {
   "cell_type": "code",
   "execution_count": 13,
   "id": "28961926",
   "metadata": {},
   "outputs": [
    {
     "data": {
      "text/plain": [
       "0.01174753721487252"
      ]
     },
     "execution_count": 13,
     "metadata": {},
     "output_type": "execute_result"
    }
   ],
   "source": [
    "portfolio_vol(weights, cov)"
   ]
  },
  {
   "cell_type": "markdown",
   "id": "8ebed44e",
   "metadata": {},
   "source": [
    "### Drawdown  <a id='dd'></a>"
   ]
  },
  {
   "cell_type": "code",
   "execution_count": 14,
   "id": "a2be7b1b",
   "metadata": {},
   "outputs": [],
   "source": [
    "def drawdown(return_series: pd.Series):\n",
    "    \"\"\"Takes a time series of asset returns.\n",
    "       returns a DataFrame with columns for the wealth index, the previous peaks, and \n",
    "       the percentage drawdown\n",
    "    \"\"\"\n",
    "    wealth_index = (1+return_series).cumprod()\n",
    "    previous_peaks = wealth_index.cummax()\n",
    "    drawdowns = (wealth_index - previous_peaks)/previous_peaks\n",
    "    return pd.DataFrame({\"Wealth\": wealth_index, \n",
    "                         \"Previous Peak\": previous_peaks, \n",
    "                         \"Drawdown\": drawdowns})"
   ]
  },
  {
   "cell_type": "code",
   "execution_count": 15,
   "id": "6565e634",
   "metadata": {},
   "outputs": [
    {
     "data": {
      "text/plain": [
       "<Axes: >"
      ]
     },
     "execution_count": 15,
     "metadata": {},
     "output_type": "execute_result"
    },
    {
     "data": {
      "image/png": "[encoded data removed]",
      "text/plain": [
       "<Figure size 640x480 with 1 Axes>"
      ]
     },
     "metadata": {},
     "output_type": "display_data"
    }
   ],
   "source": [
    "drawdown(df_cac40_rets['cac40_index'])['Drawdown'].plot()"
   ]
  },
  {
   "cell_type": "markdown",
   "id": "da797d8a",
   "metadata": {},
   "source": [
    "## Distribution of Returns <a id='distrib'></a>"
   ]
  },
  {
   "cell_type": "code",
   "execution_count": 16,
   "id": "94259001",
   "metadata": {},
   "outputs": [
    {
     "data": {
      "text/plain": [
       "array([[<Axes: title={'center': 'cac40_index'}>]], dtype=object)"
      ]
     },
     "execution_count": 16,
     "metadata": {},
     "output_type": "execute_result"
    },
    {
     "data": {
      "image/png": "[encoded data removed]",
      "text/plain": [
       "<Figure size 640x480 with 1 Axes>"
      ]
     },
     "metadata": {},
     "output_type": "display_data"
    }
   ],
   "source": [
    "df_cac40_rets.hist(bins=200)"
   ]
  },
  {
   "cell_type": "markdown",
   "id": "932b7294",
   "metadata": {},
   "source": [
    "### Skewness <a id='skew'></a>"
   ]
  },
  {
   "cell_type": "markdown",
   "id": "1c8b7be1",
   "metadata": {},
   "source": [
    "The skewness is given by:\n",
    "\n",
    "$$ S(R) = \\frac{E[ (R-E(R))^3 ]}{\\sigma_R^3} $$"
   ]
  },
  {
   "cell_type": "code",
   "execution_count": 17,
   "id": "332da8e1",
   "metadata": {},
   "outputs": [
    {
     "data": {
      "text/plain": [
       "cac40_index   -0.050412\n",
       "dtype: float64"
      ]
     },
     "execution_count": 17,
     "metadata": {},
     "output_type": "execute_result"
    }
   ],
   "source": [
    "df_cac40_rets.skew() # pandas method"
   ]
  },
  {
   "cell_type": "code",
   "execution_count": 67,
   "id": "526cea00",
   "metadata": {},
   "outputs": [],
   "source": [
    "def skewness(r):\n",
    "    \"\"\"\n",
    "    Wrap pandas method into a fnuction that vcan be used with a Series or DataFrame\n",
    "    \"\"\"\n",
    "    \n",
    "    return r.skew()\n"
   ]
  },
  {
   "cell_type": "code",
   "execution_count": 65,
   "id": "2081abe6",
   "metadata": {},
   "outputs": [],
   "source": [
    "def skewness(r):\n",
    "    \"\"\"\n",
    "    Alternative to scipy.stats.skew()\n",
    "    Computes the skewness of the supplied Series or DataFrame\n",
    "    Returns a float or a Series\n",
    "    \"\"\"\n",
    "    demeaned_r = r - r.mean()\n",
    "    # use the population standard deviation, so set dof=0\n",
    "    sigma_r = r.std(ddof=0)\n",
    "    exp = (demeaned_r**3).mean()\n",
    "    return exp/sigma_r**3\n"
   ]
  },
  {
   "cell_type": "code",
   "execution_count": 73,
   "id": "5ca20d67",
   "metadata": {},
   "outputs": [
    {
     "data": {
      "text/plain": [
       "0.39746436193471657"
      ]
     },
     "execution_count": 73,
     "metadata": {},
     "output_type": "execute_result"
    }
   ],
   "source": [
    "df_cac40_stocks_rets['AI.PA'].skew()"
   ]
  },
  {
   "cell_type": "markdown",
   "id": "2105fedf",
   "metadata": {},
   "source": [
    "### Kurtosis<a id='kurt'></a>\n",
    "\n",
    "Pandas calculates the excess Kurtosis (=0 for a Normal distribution) given by:\n",
    "\n",
    "$$ K(R) = \\frac{E[ (R-E(R))^4 ]}{\\sigma_R^4} - 3 $$"
   ]
  },
  {
   "cell_type": "code",
   "execution_count": 18,
   "id": "692cb317",
   "metadata": {},
   "outputs": [
    {
     "data": {
      "text/plain": [
       "cac40_index    5.768267\n",
       "dtype: float64"
      ]
     },
     "execution_count": 18,
     "metadata": {},
     "output_type": "execute_result"
    }
   ],
   "source": [
    "df_cac40_rets.kurtosis() # pandas method"
   ]
  },
  {
   "cell_type": "code",
   "execution_count": null,
   "id": "f280dfcf",
   "metadata": {},
   "outputs": [],
   "source": []
  },
  {
   "cell_type": "markdown",
   "id": "85ccb03f",
   "metadata": {},
   "source": [
    "### Value at Risk<a id='VaR'></a>"
   ]
  },
  {
   "cell_type": "markdown",
   "id": "b92b185b",
   "metadata": {},
   "source": [
    "#### Historic VaR<a id='hVaR'></a>"
   ]
  },
  {
   "cell_type": "markdown",
   "id": "9ff98fff",
   "metadata": {},
   "source": [
    "Historic VaR uses the historic distributions of returns. The time during which the returns were acquired must be specified (1-month VaR, 1-year VaR...)\n",
    "\n",
    "The VaR at 5% is the value of the return such that 5% of the returns fall below that value and 95% of the returns fall above that value. \n",
    "\n",
    "In other words, VaR is minus the 5 percentile return (minus on order to have a positive number representative of the loss)"
   ]
  },
  {
   "cell_type": "code",
   "execution_count": 19,
   "id": "2000829f",
   "metadata": {},
   "outputs": [],
   "source": [
    "def var_historic(r, level=5):\n",
    "    \"\"\"\n",
    "    Returns the historic Value at Risk at a specified level\n",
    "    i.e. returns the number such that \"level\" percent of the returns\n",
    "    fall below that number, and the (100-level) percent are above\n",
    "    \"\"\"\n",
    "    if isinstance(r, pd.DataFrame):\n",
    "        return r.aggregate(var_historic, level=level)\n",
    "    elif isinstance(r, pd.Series):\n",
    "        return -np.percentile(r, level)\n",
    "    else:\n",
    "        raise TypeError(\"Expected r to be a Series or DataFrame\")\n"
   ]
  },
  {
   "cell_type": "code",
   "execution_count": 20,
   "id": "9fe7708c",
   "metadata": {},
   "outputs": [
    {
     "data": {
      "text/plain": [
       "cac40_index    0.020847\n",
       "dtype: float64"
      ]
     },
     "execution_count": 20,
     "metadata": {},
     "output_type": "execute_result"
    }
   ],
   "source": [
    "var_historic(df_cac40_rets, level=5)"
   ]
  },
  {
   "cell_type": "markdown",
   "id": "d69d9efb",
   "metadata": {},
   "source": [
    "=> The bottom 5% returns are below the value -2.0847%. There is a 5% chance that the returns will be below -2.0847%."
   ]
  },
  {
   "cell_type": "code",
   "execution_count": 21,
   "id": "e7ecca9b",
   "metadata": {},
   "outputs": [
    {
     "data": {
      "text/plain": [
       "cac40_index    0.038255\n",
       "dtype: float64"
      ]
     },
     "execution_count": 21,
     "metadata": {},
     "output_type": "execute_result"
    }
   ],
   "source": [
    "var_historic(df_cac40_rets, level=1)"
   ]
  },
  {
   "cell_type": "markdown",
   "id": "7441d987",
   "metadata": {},
   "source": [
    "=> The bottom 1% returns are below the value -3.8255%."
   ]
  },
  {
   "cell_type": "code",
   "execution_count": 22,
   "id": "3efd59d9",
   "metadata": {},
   "outputs": [
    {
     "data": {
      "text/plain": [
       "-0.020846578018704265"
      ]
     },
     "execution_count": 22,
     "metadata": {},
     "output_type": "execute_result"
    }
   ],
   "source": [
    "np.percentile(df_cac40_rets.values, 5)"
   ]
  },
  {
   "cell_type": "markdown",
   "id": "04da9c0c",
   "metadata": {},
   "source": [
    "### Conditional VaR<a id='CVaR'></a>\n",
    "\n",
    "CVaR = average of all returns which are worse than the VaR"
   ]
  },
  {
   "cell_type": "code",
   "execution_count": 23,
   "id": "0baa7050",
   "metadata": {},
   "outputs": [],
   "source": [
    "def cvar_historic(r, level=5):\n",
    "    \"\"\"\n",
    "    Computes the Conditional VaR of Series or DataFrame\n",
    "    \"\"\"\n",
    "    if isinstance(r, pd.Series):\n",
    "        is_beyond = r <= -var_historic(r, level=level)\n",
    "        return -r[is_beyond].mean()\n",
    "    elif isinstance(r, pd.DataFrame):\n",
    "        return r.aggregate(cvar_historic, level=level)\n",
    "    else:\n",
    "        raise TypeError(\"Expected r to be a Series or DataFrame\")"
   ]
  },
  {
   "cell_type": "code",
   "execution_count": 24,
   "id": "6063d4d8",
   "metadata": {},
   "outputs": [
    {
     "data": {
      "text/plain": [
       "cac40_index    0.031468\n",
       "dtype: float64"
      ]
     },
     "execution_count": 24,
     "metadata": {},
     "output_type": "execute_result"
    }
   ],
   "source": [
    "cvar_historic(df_cac40_rets)"
   ]
  },
  {
   "cell_type": "code",
   "execution_count": 27,
   "id": "a391938d",
   "metadata": {},
   "outputs": [
    {
     "data": {
      "text/plain": [
       "AI.PA     0.027644\n",
       "AIR.PA    0.045113\n",
       "ALO.PA    0.059557\n",
       "dtype: float64"
      ]
     },
     "execution_count": 27,
     "metadata": {},
     "output_type": "execute_result"
    }
   ],
   "source": [
    "cvar_historic(df_cac40_stocks_rets).head(3)"
   ]
  },
  {
   "cell_type": "markdown",
   "id": "e3575a79",
   "metadata": {},
   "source": [
    "### Gaussian VaR<a id='gVaR'></a>\n",
    "\n",
    "To avoid sample bias from historical returns... we take the samples and assume these have a gaussian distribution, in which case calculating the VaR boils down to the z-score"
   ]
  },
  {
   "cell_type": "markdown",
   "id": "c82c2572",
   "metadata": {},
   "source": [
    "### Cornish-Fisher VaR<a id='cfVaR'></a>\n",
    "\n",
    "Gaussian VaR underestimates the VaR because of the thin tails of the Gaussian, so we now have model bias. Cornish-Fisher VaR adds some correction to the z-score by taking into account higher order moments of the distribution (skewness and kurtosis)."
   ]
  },
  {
   "cell_type": "code",
   "execution_count": 29,
   "id": "8cd439ae",
   "metadata": {},
   "outputs": [],
   "source": [
    "from scipy.stats import norm\n",
    "def var_gaussian(r, level=5, modified=False):\n",
    "    \"\"\"\n",
    "    Returns the Parametric Gaussian VaR of a Series or DataFrame\n",
    "    If \"modified\" is True, then the modified VaR is returned,\n",
    "    using the Cornish-Fisher modification\n",
    "    \"\"\"\n",
    "    # compute the Z score assuming it was Gaussian = # of std deviations from the mean\n",
    "    z = norm.ppf(level/100) # percent point function for a Normal distrib\n",
    "    if modified:\n",
    "        # modify the Z score based on observed skewness and kurtosis\n",
    "        s = r.skew()\n",
    "        k = r.kurtosis() # excess kurtosis\n",
    "        z = (z +\n",
    "                (z**2 - 1)*s/6 +\n",
    "                (z**3 -3*z)*(k)/24 -\n",
    "                (2*z**3 - 5*z)*(s**2)/36\n",
    "            )\n",
    "    return -(r.mean() + z*r.std(ddof=0))"
   ]
  },
  {
   "cell_type": "code",
   "execution_count": 30,
   "id": "02a2b270",
   "metadata": {},
   "outputs": [
    {
     "data": {
      "text/plain": [
       "cac40_index    0.020418\n",
       "dtype: float64"
      ]
     },
     "execution_count": 30,
     "metadata": {},
     "output_type": "execute_result"
    }
   ],
   "source": [
    "var_gaussian(df_cac40_rets, level=5, modified=True)"
   ]
  },
  {
   "cell_type": "code",
   "execution_count": 31,
   "id": "3c41e7a9",
   "metadata": {},
   "outputs": [
    {
     "data": {
      "text/plain": [
       "cac40_index    0.02179\n",
       "dtype: float64"
      ]
     },
     "execution_count": 31,
     "metadata": {},
     "output_type": "execute_result"
    }
   ],
   "source": [
    "var_gaussian(df_cac40_rets, level=5, modified=False)"
   ]
  },
  {
   "cell_type": "code",
   "execution_count": 33,
   "id": "ee5065ec",
   "metadata": {},
   "outputs": [
    {
     "data": {
      "text/plain": [
       "AI.PA     0.018859\n",
       "AIR.PA    0.032004\n",
       "ALO.PA    0.039985\n",
       "dtype: float64"
      ]
     },
     "execution_count": 33,
     "metadata": {},
     "output_type": "execute_result"
    }
   ],
   "source": [
    "var_gaussian(df_cac40_stocks_rets, modified=True).head(3)"
   ]
  },
  {
   "cell_type": "code",
   "execution_count": null,
   "id": "5b6ed85d",
   "metadata": {},
   "outputs": [],
   "source": []
  },
  {
   "cell_type": "code",
   "execution_count": null,
   "id": "3add1513",
   "metadata": {},
   "outputs": [],
   "source": []
  },
  {
   "cell_type": "markdown",
   "id": "90a49e61",
   "metadata": {},
   "source": [
    "## Summary stats <a id='summary'></a>"
   ]
  },
  {
   "cell_type": "code",
   "execution_count": 77,
   "id": "290bd6b7",
   "metadata": {},
   "outputs": [],
   "source": [
    "def summary_stats(r, riskfree_rate=0.03, periods_per_year=12):\n",
    "    \"\"\"\n",
    "    Return a DataFrame that contains aggregated summary stats for the returns in the columns of r\n",
    "    \"\"\"\n",
    "    ann_r = r.aggregate(annualize_rets, periods_per_year=periods_per_year)\n",
    "    ann_vol = r.aggregate(annualize_vol, periods_per_year=periods_per_year)\n",
    "    ann_sr = r.aggregate(sharpe_ratio, annual_riskfree_rate=riskfree_rate, periods_per_year=periods_per_year)\n",
    "    dd = r.aggregate(lambda r: drawdown(r).Drawdown.min())\n",
    "    skew = r.skew()\n",
    "    kurt = r.kurtosis()\n",
    "    cf_var5 = r.aggregate(var_gaussian, modified=True)\n",
    "    hist_cvar5 = r.aggregate(cvar_historic)\n",
    "    return pd.DataFrame({\n",
    "        \"Annualized Return\": ann_r,\n",
    "        \"Annualized Vol\": ann_vol,\n",
    "        \"Skewness\": skew,\n",
    "        \"Kurtosis\": kurt,\n",
    "        \"Sharpe Ratio\": ann_sr,\n",
    "        \"Max Drawdown\": dd,\n",
    "        \"Cornish-Fisher VaR (5%)\": cf_var5,\n",
    "        \"Historic CVaR (5%)\": hist_cvar5,\n",
    "    })\n"
   ]
  },
  {
   "cell_type": "code",
   "execution_count": 78,
   "id": "ca91c6ac",
   "metadata": {},
   "outputs": [
    {
     "data": {
      "text/html": [
       "<div>\n",
       "<style scoped>\n",
       "    .dataframe tbody tr th:only-of-type {\n",
       "        vertical-align: middle;\n",
       "    }\n",
       "\n",
       "    .dataframe tbody tr th {\n",
       "        vertical-align: top;\n",
       "    }\n",
       "\n",
       "    .dataframe thead th {\n",
       "        text-align: right;\n",
       "    }\n",
       "</style>\n",
       "<table border=\"1\" class=\"dataframe\">\n",
       "  <thead>\n",
       "    <tr style=\"text-align: right;\">\n",
       "      <th></th>\n",
       "      <th>Annualized Return</th>\n",
       "      <th>Annualized Vol</th>\n",
       "      <th>Skewness</th>\n",
       "      <th>Kurtosis</th>\n",
       "      <th>Sharpe Ratio</th>\n",
       "      <th>Max Drawdown</th>\n",
       "      <th>Cornish-Fisher VaR (5%)</th>\n",
       "      <th>Historic CVaR (5%)</th>\n",
       "    </tr>\n",
       "  </thead>\n",
       "  <tbody>\n",
       "    <tr>\n",
       "      <th>cac40_index</th>\n",
       "      <td>0.056485</td>\n",
       "      <td>0.213286</td>\n",
       "      <td>-0.050412</td>\n",
       "      <td>5.768267</td>\n",
       "      <td>0.215795</td>\n",
       "      <td>-0.652857</td>\n",
       "      <td>0.020418</td>\n",
       "      <td>0.031468</td>\n",
       "    </tr>\n",
       "  </tbody>\n",
       "</table>\n",
       "</div>"
      ],
      "text/plain": [
       "             Annualized Return  Annualized Vol  Skewness  Kurtosis  \\\n",
       "cac40_index           0.056485        0.213286 -0.050412  5.768267   \n",
       "\n",
       "             Sharpe Ratio  Max Drawdown  Cornish-Fisher VaR (5%)  \\\n",
       "cac40_index      0.215795     -0.652857                 0.020418   \n",
       "\n",
       "             Historic CVaR (5%)  \n",
       "cac40_index            0.031468  "
      ]
     },
     "execution_count": 78,
     "metadata": {},
     "output_type": "execute_result"
    }
   ],
   "source": [
    "summary_stats(df_cac40_rets, riskfree_rate=0.01, periods_per_year=252)"
   ]
  },
  {
   "cell_type": "code",
   "execution_count": null,
   "id": "d99744fd",
   "metadata": {},
   "outputs": [],
   "source": []
  },
  {
   "cell_type": "code",
   "execution_count": null,
   "id": "d8c77b0e",
   "metadata": {},
   "outputs": [],
   "source": []
  },
  {
   "cell_type": "code",
   "execution_count": null,
   "id": "ba059b72",
   "metadata": {},
   "outputs": [],
   "source": []
  },
  {
   "cell_type": "code",
   "execution_count": null,
   "id": "4b47a62a",
   "metadata": {},
   "outputs": [],
   "source": []
  },
  {
   "cell_type": "code",
   "execution_count": null,
   "id": "489b86c9",
   "metadata": {},
   "outputs": [],
   "source": []
  },
  {
   "cell_type": "markdown",
   "id": "4569ed78",
   "metadata": {},
   "source": [
    "## Testing the module <a id='mod'></a>"
   ]
  },
  {
   "cell_type": "code",
   "execution_count": 81,
   "id": "60ba65cf",
   "metadata": {},
   "outputs": [],
   "source": [
    "import finance_utils as fin\n",
    "%load_ext autoreload\n",
    "%autoreload 2\n"
   ]
  },
  {
   "cell_type": "code",
   "execution_count": null,
   "id": "12879de2",
   "metadata": {},
   "outputs": [],
   "source": []
  },
  {
   "cell_type": "code",
   "execution_count": 35,
   "id": "161b2007",
   "metadata": {},
   "outputs": [
    {
     "data": {
      "text/plain": [
       "AI.PA     0.132839\n",
       "AIR.PA    0.102659\n",
       "ALO.PA   -0.122198\n",
       "dtype: float64"
      ]
     },
     "execution_count": 35,
     "metadata": {},
     "output_type": "execute_result"
    }
   ],
   "source": [
    "rets = fin.annualize_rets(df_cac40_stocks_rets, 252) # annualized returns for each asset\n",
    "rets.head(3)"
   ]
  },
  {
   "cell_type": "code",
   "execution_count": 36,
   "id": "e045ae92",
   "metadata": {},
   "outputs": [
    {
     "data": {
      "text/plain": [
       "0.0030221789893275317"
      ]
     },
     "execution_count": 36,
     "metadata": {},
     "output_type": "execute_result"
    }
   ],
   "source": [
    "n = rets.shape[0]\n",
    "weights = np.repeat(1/n, n) # equal weights\n",
    "fin.portfolio_return(weights, rets)"
   ]
  },
  {
   "cell_type": "code",
   "execution_count": 37,
   "id": "c7f7a3c9",
   "metadata": {},
   "outputs": [
    {
     "data": {
      "text/plain": [
       "AI.PA     0.209176\n",
       "AIR.PA    0.316367\n",
       "ALO.PA    0.393407\n",
       "dtype: float64"
      ]
     },
     "execution_count": 37,
     "metadata": {},
     "output_type": "execute_result"
    }
   ],
   "source": [
    "vols = fin.annualize_vol(df_cac40_stocks_rets, 252) # annualized volatilities for each asset\n",
    "vols.head(3)"
   ]
  },
  {
   "cell_type": "code",
   "execution_count": 38,
   "id": "57345cbc",
   "metadata": {},
   "outputs": [
    {
     "data": {
      "text/plain": [
       "AI.PA     0.635061\n",
       "AIR.PA    0.324493\n",
       "ALO.PA   -0.310616\n",
       "dtype: float64"
      ]
     },
     "execution_count": 38,
     "metadata": {},
     "output_type": "execute_result"
    }
   ],
   "source": [
    "sharpe = fin.sharpe_ratio(df_cac40_stocks_rets, 0, 252)\n",
    "sharpe.head(3)"
   ]
  },
  {
   "cell_type": "code",
   "execution_count": 39,
   "id": "ad670ed4",
   "metadata": {},
   "outputs": [
    {
     "data": {
      "text/plain": [
       "0.01174753721487252"
      ]
     },
     "execution_count": 39,
     "metadata": {},
     "output_type": "execute_result"
    }
   ],
   "source": [
    "cov = df_cac40_stocks_rets.cov() # covariance matrix of assets returns\n",
    "fin.portfolio_vol(weights, cov)"
   ]
  },
  {
   "cell_type": "code",
   "execution_count": 40,
   "id": "c069d287",
   "metadata": {},
   "outputs": [
    {
     "data": {
      "text/plain": [
       "<Axes: >"
      ]
     },
     "execution_count": 40,
     "metadata": {},
     "output_type": "execute_result"
    },
    {
     "data": {
      "image/png": "[encoded data removed]",
      "text/plain": [
       "<Figure size 640x480 with 1 Axes>"
      ]
     },
     "metadata": {},
     "output_type": "display_data"
    }
   ],
   "source": [
    "fin.drawdown(df_cac40_rets['cac40_index'])['Drawdown'].plot()"
   ]
  },
  {
   "cell_type": "code",
   "execution_count": 41,
   "id": "c264c887",
   "metadata": {},
   "outputs": [
    {
     "data": {
      "text/plain": [
       "cac40_index    0.020847\n",
       "dtype: float64"
      ]
     },
     "execution_count": 41,
     "metadata": {},
     "output_type": "execute_result"
    }
   ],
   "source": [
    "fin.var_historic(df_cac40_rets, level=5)"
   ]
  },
  {
   "cell_type": "code",
   "execution_count": 42,
   "id": "d237cc80",
   "metadata": {},
   "outputs": [
    {
     "data": {
      "text/plain": [
       "cac40_index    0.038255\n",
       "dtype: float64"
      ]
     },
     "execution_count": 42,
     "metadata": {},
     "output_type": "execute_result"
    }
   ],
   "source": [
    "fin.var_historic(df_cac40_rets, level=1)"
   ]
  },
  {
   "cell_type": "code",
   "execution_count": 43,
   "id": "db9577d4",
   "metadata": {},
   "outputs": [
    {
     "data": {
      "text/plain": [
       "cac40_index    0.031468\n",
       "dtype: float64"
      ]
     },
     "execution_count": 43,
     "metadata": {},
     "output_type": "execute_result"
    }
   ],
   "source": [
    "fin.cvar_historic(df_cac40_rets)"
   ]
  },
  {
   "cell_type": "code",
   "execution_count": 45,
   "id": "3d7e939b",
   "metadata": {},
   "outputs": [
    {
     "data": {
      "text/plain": [
       "AI.PA     0.027644\n",
       "AIR.PA    0.045113\n",
       "ALO.PA    0.059557\n",
       "dtype: float64"
      ]
     },
     "execution_count": 45,
     "metadata": {},
     "output_type": "execute_result"
    }
   ],
   "source": [
    "fin.cvar_historic(df_cac40_stocks_rets).head(3)"
   ]
  },
  {
   "cell_type": "code",
   "execution_count": 46,
   "id": "15698ccd",
   "metadata": {},
   "outputs": [
    {
     "data": {
      "text/plain": [
       "cac40_index    0.020418\n",
       "dtype: float64"
      ]
     },
     "execution_count": 46,
     "metadata": {},
     "output_type": "execute_result"
    }
   ],
   "source": [
    "fin.var_gaussian(df_cac40_rets, level=5, modified=True)"
   ]
  },
  {
   "cell_type": "code",
   "execution_count": 47,
   "id": "96c17578",
   "metadata": {},
   "outputs": [
    {
     "data": {
      "text/plain": [
       "cac40_index    0.02179\n",
       "dtype: float64"
      ]
     },
     "execution_count": 47,
     "metadata": {},
     "output_type": "execute_result"
    }
   ],
   "source": [
    "fin.var_gaussian(df_cac40_rets, level=5, modified=False)"
   ]
  },
  {
   "cell_type": "code",
   "execution_count": 49,
   "id": "3864ce6d",
   "metadata": {},
   "outputs": [
    {
     "data": {
      "text/plain": [
       "AI.PA     0.021071\n",
       "AIR.PA    0.032162\n",
       "ALO.PA    0.040933\n",
       "dtype: float64"
      ]
     },
     "execution_count": 49,
     "metadata": {},
     "output_type": "execute_result"
    }
   ],
   "source": [
    "fin.var_gaussian(df_cac40_stocks_rets).head(3)"
   ]
  },
  {
   "cell_type": "code",
   "execution_count": 83,
   "id": "f8076930",
   "metadata": {},
   "outputs": [
    {
     "data": {
      "text/html": [
       "<div>\n",
       "<style scoped>\n",
       "    .dataframe tbody tr th:only-of-type {\n",
       "        vertical-align: middle;\n",
       "    }\n",
       "\n",
       "    .dataframe tbody tr th {\n",
       "        vertical-align: top;\n",
       "    }\n",
       "\n",
       "    .dataframe thead th {\n",
       "        text-align: right;\n",
       "    }\n",
       "</style>\n",
       "<table border=\"1\" class=\"dataframe\">\n",
       "  <thead>\n",
       "    <tr style=\"text-align: right;\">\n",
       "      <th></th>\n",
       "      <th>Annualized Return</th>\n",
       "      <th>Annualized Vol</th>\n",
       "      <th>Skewness</th>\n",
       "      <th>Kurtosis</th>\n",
       "      <th>Sharpe Ratio</th>\n",
       "      <th>Max Drawdown</th>\n",
       "      <th>Cornish-Fisher VaR (5%)</th>\n",
       "      <th>Historic CVaR (5%)</th>\n",
       "    </tr>\n",
       "  </thead>\n",
       "  <tbody>\n",
       "    <tr>\n",
       "      <th>cac40_index</th>\n",
       "      <td>0.056485</td>\n",
       "      <td>0.213286</td>\n",
       "      <td>-0.050412</td>\n",
       "      <td>5.768267</td>\n",
       "      <td>0.215795</td>\n",
       "      <td>-0.652857</td>\n",
       "      <td>0.020418</td>\n",
       "      <td>0.031468</td>\n",
       "    </tr>\n",
       "  </tbody>\n",
       "</table>\n",
       "</div>"
      ],
      "text/plain": [
       "             Annualized Return  Annualized Vol  Skewness  Kurtosis  \\\n",
       "cac40_index           0.056485        0.213286 -0.050412  5.768267   \n",
       "\n",
       "             Sharpe Ratio  Max Drawdown  Cornish-Fisher VaR (5%)  \\\n",
       "cac40_index      0.215795     -0.652857                 0.020418   \n",
       "\n",
       "             Historic CVaR (5%)  \n",
       "cac40_index            0.031468  "
      ]
     },
     "execution_count": 83,
     "metadata": {},
     "output_type": "execute_result"
    }
   ],
   "source": [
    "fin.summary_stats(df_cac40_rets, riskfree_rate=0.01, periods_per_year=252)"
   ]
  },
  {
   "cell_type": "code",
   "execution_count": 84,
   "id": "773b5960",
   "metadata": {},
   "outputs": [
    {
     "data": {
      "text/html": [
       "<div>\n",
       "<style scoped>\n",
       "    .dataframe tbody tr th:only-of-type {\n",
       "        vertical-align: middle;\n",
       "    }\n",
       "\n",
       "    .dataframe tbody tr th {\n",
       "        vertical-align: top;\n",
       "    }\n",
       "\n",
       "    .dataframe thead th {\n",
       "        text-align: right;\n",
       "    }\n",
       "</style>\n",
       "<table border=\"1\" class=\"dataframe\">\n",
       "  <thead>\n",
       "    <tr style=\"text-align: right;\">\n",
       "      <th></th>\n",
       "      <th>Annualized Return</th>\n",
       "      <th>Annualized Vol</th>\n",
       "      <th>Skewness</th>\n",
       "      <th>Kurtosis</th>\n",
       "      <th>Sharpe Ratio</th>\n",
       "      <th>Max Drawdown</th>\n",
       "      <th>Cornish-Fisher VaR (5%)</th>\n",
       "      <th>Historic CVaR (5%)</th>\n",
       "    </tr>\n",
       "  </thead>\n",
       "  <tbody>\n",
       "    <tr>\n",
       "      <th>AI.PA</th>\n",
       "      <td>0.132839</td>\n",
       "      <td>0.209176</td>\n",
       "      <td>0.397464</td>\n",
       "      <td>2.581616</td>\n",
       "      <td>0.581459</td>\n",
       "      <td>-0.231740</td>\n",
       "      <td>0.018859</td>\n",
       "      <td>0.027644</td>\n",
       "    </tr>\n",
       "    <tr>\n",
       "      <th>AIR.PA</th>\n",
       "      <td>0.102659</td>\n",
       "      <td>0.316367</td>\n",
       "      <td>-0.292061</td>\n",
       "      <td>4.427413</td>\n",
       "      <td>0.289989</td>\n",
       "      <td>-0.268356</td>\n",
       "      <td>0.032004</td>\n",
       "      <td>0.045113</td>\n",
       "    </tr>\n",
       "    <tr>\n",
       "      <th>ALO.PA</th>\n",
       "      <td>-0.122198</td>\n",
       "      <td>0.393407</td>\n",
       "      <td>-0.036833</td>\n",
       "      <td>2.414248</td>\n",
       "      <td>-0.332727</td>\n",
       "      <td>-0.537132</td>\n",
       "      <td>0.039985</td>\n",
       "      <td>0.059557</td>\n",
       "    </tr>\n",
       "    <tr>\n",
       "      <th>MT</th>\n",
       "      <td>-0.058403</td>\n",
       "      <td>0.410544</td>\n",
       "      <td>0.002211</td>\n",
       "      <td>1.671317</td>\n",
       "      <td>-0.164980</td>\n",
       "      <td>-0.467543</td>\n",
       "      <td>0.041514</td>\n",
       "      <td>0.058757</td>\n",
       "    </tr>\n",
       "    <tr>\n",
       "      <th>CS.PA</th>\n",
       "      <td>0.108000</td>\n",
       "      <td>0.248958</td>\n",
       "      <td>-0.271207</td>\n",
       "      <td>4.361967</td>\n",
       "      <td>0.389756</td>\n",
       "      <td>-0.291130</td>\n",
       "      <td>0.025048</td>\n",
       "      <td>0.037837</td>\n",
       "    </tr>\n",
       "    <tr>\n",
       "      <th>BNP.PA</th>\n",
       "      <td>0.069224</td>\n",
       "      <td>0.317718</td>\n",
       "      <td>-0.459557</td>\n",
       "      <td>3.483522</td>\n",
       "      <td>0.184560</td>\n",
       "      <td>-0.386126</td>\n",
       "      <td>0.033549</td>\n",
       "      <td>0.050006</td>\n",
       "    </tr>\n",
       "    <tr>\n",
       "      <th>EN.PA</th>\n",
       "      <td>-0.056110</td>\n",
       "      <td>0.198714</td>\n",
       "      <td>-0.798860</td>\n",
       "      <td>3.159657</td>\n",
       "      <td>-0.329412</td>\n",
       "      <td>-0.283594</td>\n",
       "      <td>0.022613</td>\n",
       "      <td>0.031669</td>\n",
       "    </tr>\n",
       "    <tr>\n",
       "      <th>CAP.PA</th>\n",
       "      <td>-0.055859</td>\n",
       "      <td>0.309499</td>\n",
       "      <td>0.290597</td>\n",
       "      <td>1.904672</td>\n",
       "      <td>-0.210700</td>\n",
       "      <td>-0.298343</td>\n",
       "      <td>0.029688</td>\n",
       "      <td>0.040612</td>\n",
       "    </tr>\n",
       "    <tr>\n",
       "      <th>CA.PA</th>\n",
       "      <td>0.065906</td>\n",
       "      <td>0.252088</td>\n",
       "      <td>-0.150927</td>\n",
       "      <td>3.448684</td>\n",
       "      <td>0.219581</td>\n",
       "      <td>-0.337978</td>\n",
       "      <td>0.025285</td>\n",
       "      <td>0.037823</td>\n",
       "    </tr>\n",
       "    <tr>\n",
       "      <th>ACA.PA</th>\n",
       "      <td>0.000176</td>\n",
       "      <td>0.287508</td>\n",
       "      <td>-0.640496</td>\n",
       "      <td>5.976137</td>\n",
       "      <td>-0.033837</td>\n",
       "      <td>-0.423979</td>\n",
       "      <td>0.030568</td>\n",
       "      <td>0.047130</td>\n",
       "    </tr>\n",
       "    <tr>\n",
       "      <th>BN.PA</th>\n",
       "      <td>-0.048952</td>\n",
       "      <td>0.195189</td>\n",
       "      <td>0.602604</td>\n",
       "      <td>4.905293</td>\n",
       "      <td>-0.299050</td>\n",
       "      <td>-0.208702</td>\n",
       "      <td>0.016925</td>\n",
       "      <td>0.027002</td>\n",
       "    </tr>\n",
       "    <tr>\n",
       "      <th>DSY.PA</th>\n",
       "      <td>-0.144214</td>\n",
       "      <td>0.311561</td>\n",
       "      <td>0.413867</td>\n",
       "      <td>4.186460</td>\n",
       "      <td>-0.490094</td>\n",
       "      <td>-0.418356</td>\n",
       "      <td>0.028651</td>\n",
       "      <td>0.044396</td>\n",
       "    </tr>\n",
       "    <tr>\n",
       "      <th>ENGI.PA</th>\n",
       "      <td>0.115571</td>\n",
       "      <td>0.259809</td>\n",
       "      <td>-1.323628</td>\n",
       "      <td>10.889897</td>\n",
       "      <td>0.402328</td>\n",
       "      <td>-0.306700</td>\n",
       "      <td>0.028345</td>\n",
       "      <td>0.041969</td>\n",
       "    </tr>\n",
       "    <tr>\n",
       "      <th>EL.PA</th>\n",
       "      <td>0.013258</td>\n",
       "      <td>0.273971</td>\n",
       "      <td>0.300310</td>\n",
       "      <td>2.077123</td>\n",
       "      <td>0.011770</td>\n",
       "      <td>-0.306216</td>\n",
       "      <td>0.025936</td>\n",
       "      <td>0.036799</td>\n",
       "    </tr>\n",
       "    <tr>\n",
       "      <th>ERF.PA</th>\n",
       "      <td>-0.334653</td>\n",
       "      <td>0.333541</td>\n",
       "      <td>-0.423786</td>\n",
       "      <td>3.293721</td>\n",
       "      <td>-1.023120</td>\n",
       "      <td>-0.574818</td>\n",
       "      <td>0.036982</td>\n",
       "      <td>0.050295</td>\n",
       "    </tr>\n",
       "    <tr>\n",
       "      <th>RMS.PA</th>\n",
       "      <td>0.204878</td>\n",
       "      <td>0.319252</td>\n",
       "      <td>0.183953</td>\n",
       "      <td>1.395675</td>\n",
       "      <td>0.604395</td>\n",
       "      <td>-0.420949</td>\n",
       "      <td>0.030477</td>\n",
       "      <td>0.042639</td>\n",
       "    </tr>\n",
       "    <tr>\n",
       "      <th>KER.PA</th>\n",
       "      <td>-0.140431</td>\n",
       "      <td>0.312243</td>\n",
       "      <td>0.209876</td>\n",
       "      <td>1.789111</td>\n",
       "      <td>-0.477028</td>\n",
       "      <td>-0.402740</td>\n",
       "      <td>0.030831</td>\n",
       "      <td>0.041811</td>\n",
       "    </tr>\n",
       "    <tr>\n",
       "      <th>OR.PA</th>\n",
       "      <td>0.034115</td>\n",
       "      <td>0.260653</td>\n",
       "      <td>0.442819</td>\n",
       "      <td>2.354110</td>\n",
       "      <td>0.091600</td>\n",
       "      <td>-0.302272</td>\n",
       "      <td>0.023810</td>\n",
       "      <td>0.034274</td>\n",
       "    </tr>\n",
       "    <tr>\n",
       "      <th>LR.PA</th>\n",
       "      <td>-0.017473</td>\n",
       "      <td>0.238192</td>\n",
       "      <td>-0.147356</td>\n",
       "      <td>0.905792</td>\n",
       "      <td>-0.114209</td>\n",
       "      <td>-0.374181</td>\n",
       "      <td>0.024961</td>\n",
       "      <td>0.033632</td>\n",
       "    </tr>\n",
       "    <tr>\n",
       "      <th>MC.PA</th>\n",
       "      <td>0.080830</td>\n",
       "      <td>0.296630</td>\n",
       "      <td>0.351267</td>\n",
       "      <td>2.223621</td>\n",
       "      <td>0.236421</td>\n",
       "      <td>-0.288390</td>\n",
       "      <td>0.027478</td>\n",
       "      <td>0.039653</td>\n",
       "    </tr>\n",
       "    <tr>\n",
       "      <th>ML.PA</th>\n",
       "      <td>-0.036637</td>\n",
       "      <td>0.279028</td>\n",
       "      <td>-0.160102</td>\n",
       "      <td>3.101328</td>\n",
       "      <td>-0.165496</td>\n",
       "      <td>-0.424573</td>\n",
       "      <td>0.028569</td>\n",
       "      <td>0.041439</td>\n",
       "    </tr>\n",
       "    <tr>\n",
       "      <th>ORA.PA</th>\n",
       "      <td>0.077032</td>\n",
       "      <td>0.152674</td>\n",
       "      <td>0.338886</td>\n",
       "      <td>4.343022</td>\n",
       "      <td>0.434717</td>\n",
       "      <td>-0.228119</td>\n",
       "      <td>0.013675</td>\n",
       "      <td>0.021407</td>\n",
       "    </tr>\n",
       "    <tr>\n",
       "      <th>RI.PA</th>\n",
       "      <td>-0.031181</td>\n",
       "      <td>0.222215</td>\n",
       "      <td>-0.093261</td>\n",
       "      <td>2.636888</td>\n",
       "      <td>-0.183496</td>\n",
       "      <td>-0.221349</td>\n",
       "      <td>0.022654</td>\n",
       "      <td>0.032133</td>\n",
       "    </tr>\n",
       "    <tr>\n",
       "      <th>PUB.PA</th>\n",
       "      <td>0.134025</td>\n",
       "      <td>0.281242</td>\n",
       "      <td>-0.213945</td>\n",
       "      <td>2.523383</td>\n",
       "      <td>0.436638</td>\n",
       "      <td>-0.378071</td>\n",
       "      <td>0.028616</td>\n",
       "      <td>0.042582</td>\n",
       "    </tr>\n",
       "    <tr>\n",
       "      <th>RNO.PA</th>\n",
       "      <td>0.134371</td>\n",
       "      <td>0.425743</td>\n",
       "      <td>-0.081637</td>\n",
       "      <td>2.148334</td>\n",
       "      <td>0.289238</td>\n",
       "      <td>-0.426765</td>\n",
       "      <td>0.042667</td>\n",
       "      <td>0.061146</td>\n",
       "    </tr>\n",
       "    <tr>\n",
       "      <th>SAF.PA</th>\n",
       "      <td>0.172078</td>\n",
       "      <td>0.303732</td>\n",
       "      <td>-0.222874</td>\n",
       "      <td>4.239841</td>\n",
       "      <td>0.528356</td>\n",
       "      <td>-0.281789</td>\n",
       "      <td>0.030185</td>\n",
       "      <td>0.042829</td>\n",
       "    </tr>\n",
       "    <tr>\n",
       "      <th>SGO.PA</th>\n",
       "      <td>-0.012443</td>\n",
       "      <td>0.321175</td>\n",
       "      <td>-0.186764</td>\n",
       "      <td>1.952571</td>\n",
       "      <td>-0.069194</td>\n",
       "      <td>-0.468176</td>\n",
       "      <td>0.033354</td>\n",
       "      <td>0.046666</td>\n",
       "    </tr>\n",
       "    <tr>\n",
       "      <th>SAN.PA</th>\n",
       "      <td>0.101215</td>\n",
       "      <td>0.220708</td>\n",
       "      <td>-0.306629</td>\n",
       "      <td>4.350877</td>\n",
       "      <td>0.409204</td>\n",
       "      <td>-0.270947</td>\n",
       "      <td>0.022334</td>\n",
       "      <td>0.031260</td>\n",
       "    </tr>\n",
       "    <tr>\n",
       "      <th>SU.PA</th>\n",
       "      <td>0.032365</td>\n",
       "      <td>0.290735</td>\n",
       "      <td>0.106277</td>\n",
       "      <td>1.299369</td>\n",
       "      <td>0.076160</td>\n",
       "      <td>-0.374311</td>\n",
       "      <td>0.028765</td>\n",
       "      <td>0.039885</td>\n",
       "    </tr>\n",
       "    <tr>\n",
       "      <th>GLE.PA</th>\n",
       "      <td>0.016950</td>\n",
       "      <td>0.368894</td>\n",
       "      <td>-0.778854</td>\n",
       "      <td>5.976336</td>\n",
       "      <td>0.018648</td>\n",
       "      <td>-0.478575</td>\n",
       "      <td>0.039921</td>\n",
       "      <td>0.062426</td>\n",
       "    </tr>\n",
       "    <tr>\n",
       "      <th>STLAM.MI</th>\n",
       "      <td>0.027132</td>\n",
       "      <td>0.346873</td>\n",
       "      <td>0.004139</td>\n",
       "      <td>2.964385</td>\n",
       "      <td>0.048896</td>\n",
       "      <td>-0.414629</td>\n",
       "      <td>0.034230</td>\n",
       "      <td>0.051333</td>\n",
       "    </tr>\n",
       "    <tr>\n",
       "      <th>STMPA.PA</th>\n",
       "      <td>0.036094</td>\n",
       "      <td>0.368910</td>\n",
       "      <td>0.112822</td>\n",
       "      <td>1.873293</td>\n",
       "      <td>0.070029</td>\n",
       "      <td>-0.389544</td>\n",
       "      <td>0.036150</td>\n",
       "      <td>0.051841</td>\n",
       "    </tr>\n",
       "    <tr>\n",
       "      <th>TEP.PA</th>\n",
       "      <td>-0.410004</td>\n",
       "      <td>0.426887</td>\n",
       "      <td>-4.481018</td>\n",
       "      <td>52.314312</td>\n",
       "      <td>-0.974169</td>\n",
       "      <td>-0.709722</td>\n",
       "      <td>0.041606</td>\n",
       "      <td>0.066833</td>\n",
       "    </tr>\n",
       "    <tr>\n",
       "      <th>HO.PA</th>\n",
       "      <td>0.295699</td>\n",
       "      <td>0.267512</td>\n",
       "      <td>0.267403</td>\n",
       "      <td>6.509528</td>\n",
       "      <td>1.057453</td>\n",
       "      <td>-0.170954</td>\n",
       "      <td>0.023008</td>\n",
       "      <td>0.037071</td>\n",
       "    </tr>\n",
       "    <tr>\n",
       "      <th>TTE.PA</th>\n",
       "      <td>0.254482</td>\n",
       "      <td>0.286781</td>\n",
       "      <td>-0.218048</td>\n",
       "      <td>1.467302</td>\n",
       "      <td>0.844093</td>\n",
       "      <td>-0.184536</td>\n",
       "      <td>0.029191</td>\n",
       "      <td>0.041706</td>\n",
       "    </tr>\n",
       "    <tr>\n",
       "      <th>UNBLF</th>\n",
       "      <td>-0.173713</td>\n",
       "      <td>0.414831</td>\n",
       "      <td>-0.551514</td>\n",
       "      <td>7.233320</td>\n",
       "      <td>-0.438501</td>\n",
       "      <td>-0.498647</td>\n",
       "      <td>0.043485</td>\n",
       "      <td>0.078389</td>\n",
       "    </tr>\n",
       "    <tr>\n",
       "      <th>VIE.PA</th>\n",
       "      <td>0.021066</td>\n",
       "      <td>0.303490</td>\n",
       "      <td>0.067906</td>\n",
       "      <td>4.053291</td>\n",
       "      <td>0.036098</td>\n",
       "      <td>-0.423274</td>\n",
       "      <td>0.029218</td>\n",
       "      <td>0.043416</td>\n",
       "    </tr>\n",
       "    <tr>\n",
       "      <th>DG.PA</th>\n",
       "      <td>0.085619</td>\n",
       "      <td>0.229727</td>\n",
       "      <td>-0.490409</td>\n",
       "      <td>4.099616</td>\n",
       "      <td>0.325917</td>\n",
       "      <td>-0.211845</td>\n",
       "      <td>0.024103</td>\n",
       "      <td>0.034974</td>\n",
       "    </tr>\n",
       "    <tr>\n",
       "      <th>VIV.PA</th>\n",
       "      <td>-0.194767</td>\n",
       "      <td>0.241771</td>\n",
       "      <td>-2.783110</td>\n",
       "      <td>31.195338</td>\n",
       "      <td>-0.838594</td>\n",
       "      <td>-0.367147</td>\n",
       "      <td>0.026011</td>\n",
       "      <td>0.037059</td>\n",
       "    </tr>\n",
       "    <tr>\n",
       "      <th>WLN.PA</th>\n",
       "      <td>-0.357661</td>\n",
       "      <td>0.401068</td>\n",
       "      <td>0.057089</td>\n",
       "      <td>5.626110</td>\n",
       "      <td>-0.907664</td>\n",
       "      <td>-0.603955</td>\n",
       "      <td>0.039675</td>\n",
       "      <td>0.056446</td>\n",
       "    </tr>\n",
       "  </tbody>\n",
       "</table>\n",
       "</div>"
      ],
      "text/plain": [
       "          Annualized Return  Annualized Vol  Skewness   Kurtosis  \\\n",
       "AI.PA              0.132839        0.209176  0.397464   2.581616   \n",
       "AIR.PA             0.102659        0.316367 -0.292061   4.427413   \n",
       "ALO.PA            -0.122198        0.393407 -0.036833   2.414248   \n",
       "MT                -0.058403        0.410544  0.002211   1.671317   \n",
       "CS.PA              0.108000        0.248958 -0.271207   4.361967   \n",
       "BNP.PA             0.069224        0.317718 -0.459557   3.483522   \n",
       "EN.PA             -0.056110        0.198714 -0.798860   3.159657   \n",
       "CAP.PA            -0.055859        0.309499  0.290597   1.904672   \n",
       "CA.PA              0.065906        0.252088 -0.150927   3.448684   \n",
       "ACA.PA             0.000176        0.287508 -0.640496   5.976137   \n",
       "BN.PA             -0.048952        0.195189  0.602604   4.905293   \n",
       "DSY.PA            -0.144214        0.311561  0.413867   4.186460   \n",
       "ENGI.PA            0.115571        0.259809 -1.323628  10.889897   \n",
       "EL.PA              0.013258        0.273971  0.300310   2.077123   \n",
       "ERF.PA            -0.334653        0.333541 -0.423786   3.293721   \n",
       "RMS.PA             0.204878        0.319252  0.183953   1.395675   \n",
       "KER.PA            -0.140431        0.312243  0.209876   1.789111   \n",
       "OR.PA              0.034115        0.260653  0.442819   2.354110   \n",
       "LR.PA             -0.017473        0.238192 -0.147356   0.905792   \n",
       "MC.PA              0.080830        0.296630  0.351267   2.223621   \n",
       "ML.PA             -0.036637        0.279028 -0.160102   3.101328   \n",
       "ORA.PA             0.077032        0.152674  0.338886   4.343022   \n",
       "RI.PA             -0.031181        0.222215 -0.093261   2.636888   \n",
       "PUB.PA             0.134025        0.281242 -0.213945   2.523383   \n",
       "RNO.PA             0.134371        0.425743 -0.081637   2.148334   \n",
       "SAF.PA             0.172078        0.303732 -0.222874   4.239841   \n",
       "SGO.PA            -0.012443        0.321175 -0.186764   1.952571   \n",
       "SAN.PA             0.101215        0.220708 -0.306629   4.350877   \n",
       "SU.PA              0.032365        0.290735  0.106277   1.299369   \n",
       "GLE.PA             0.016950        0.368894 -0.778854   5.976336   \n",
       "STLAM.MI           0.027132        0.346873  0.004139   2.964385   \n",
       "STMPA.PA           0.036094        0.368910  0.112822   1.873293   \n",
       "TEP.PA            -0.410004        0.426887 -4.481018  52.314312   \n",
       "HO.PA              0.295699        0.267512  0.267403   6.509528   \n",
       "TTE.PA             0.254482        0.286781 -0.218048   1.467302   \n",
       "UNBLF             -0.173713        0.414831 -0.551514   7.233320   \n",
       "VIE.PA             0.021066        0.303490  0.067906   4.053291   \n",
       "DG.PA              0.085619        0.229727 -0.490409   4.099616   \n",
       "VIV.PA            -0.194767        0.241771 -2.783110  31.195338   \n",
       "WLN.PA            -0.357661        0.401068  0.057089   5.626110   \n",
       "\n",
       "          Sharpe Ratio  Max Drawdown  Cornish-Fisher VaR (5%)  \\\n",
       "AI.PA         0.581459     -0.231740                 0.018859   \n",
       "AIR.PA        0.289989     -0.268356                 0.032004   \n",
       "ALO.PA       -0.332727     -0.537132                 0.039985   \n",
       "MT           -0.164980     -0.467543                 0.041514   \n",
       "CS.PA         0.389756     -0.291130                 0.025048   \n",
       "BNP.PA        0.184560     -0.386126                 0.033549   \n",
       "EN.PA        -0.329412     -0.283594                 0.022613   \n",
       "CAP.PA       -0.210700     -0.298343                 0.029688   \n",
       "CA.PA         0.219581     -0.337978                 0.025285   \n",
       "ACA.PA       -0.033837     -0.423979                 0.030568   \n",
       "BN.PA        -0.299050     -0.208702                 0.016925   \n",
       "DSY.PA       -0.490094     -0.418356                 0.028651   \n",
       "ENGI.PA       0.402328     -0.306700                 0.028345   \n",
       "EL.PA         0.011770     -0.306216                 0.025936   \n",
       "ERF.PA       -1.023120     -0.574818                 0.036982   \n",
       "RMS.PA        0.604395     -0.420949                 0.030477   \n",
       "KER.PA       -0.477028     -0.402740                 0.030831   \n",
       "OR.PA         0.091600     -0.302272                 0.023810   \n",
       "LR.PA        -0.114209     -0.374181                 0.024961   \n",
       "MC.PA         0.236421     -0.288390                 0.027478   \n",
       "ML.PA        -0.165496     -0.424573                 0.028569   \n",
       "ORA.PA        0.434717     -0.228119                 0.013675   \n",
       "RI.PA        -0.183496     -0.221349                 0.022654   \n",
       "PUB.PA        0.436638     -0.378071                 0.028616   \n",
       "RNO.PA        0.289238     -0.426765                 0.042667   \n",
       "SAF.PA        0.528356     -0.281789                 0.030185   \n",
       "SGO.PA       -0.069194     -0.468176                 0.033354   \n",
       "SAN.PA        0.409204     -0.270947                 0.022334   \n",
       "SU.PA         0.076160     -0.374311                 0.028765   \n",
       "GLE.PA        0.018648     -0.478575                 0.039921   \n",
       "STLAM.MI      0.048896     -0.414629                 0.034230   \n",
       "STMPA.PA      0.070029     -0.389544                 0.036150   \n",
       "TEP.PA       -0.974169     -0.709722                 0.041606   \n",
       "HO.PA         1.057453     -0.170954                 0.023008   \n",
       "TTE.PA        0.844093     -0.184536                 0.029191   \n",
       "UNBLF        -0.438501     -0.498647                 0.043485   \n",
       "VIE.PA        0.036098     -0.423274                 0.029218   \n",
       "DG.PA         0.325917     -0.211845                 0.024103   \n",
       "VIV.PA       -0.838594     -0.367147                 0.026011   \n",
       "WLN.PA       -0.907664     -0.603955                 0.039675   \n",
       "\n",
       "          Historic CVaR (5%)  \n",
       "AI.PA               0.027644  \n",
       "AIR.PA              0.045113  \n",
       "ALO.PA              0.059557  \n",
       "MT                  0.058757  \n",
       "CS.PA               0.037837  \n",
       "BNP.PA              0.050006  \n",
       "EN.PA               0.031669  \n",
       "CAP.PA              0.040612  \n",
       "CA.PA               0.037823  \n",
       "ACA.PA              0.047130  \n",
       "BN.PA               0.027002  \n",
       "DSY.PA              0.044396  \n",
       "ENGI.PA             0.041969  \n",
       "EL.PA               0.036799  \n",
       "ERF.PA              0.050295  \n",
       "RMS.PA              0.042639  \n",
       "KER.PA              0.041811  \n",
       "OR.PA               0.034274  \n",
       "LR.PA               0.033632  \n",
       "MC.PA               0.039653  \n",
       "ML.PA               0.041439  \n",
       "ORA.PA              0.021407  \n",
       "RI.PA               0.032133  \n",
       "PUB.PA              0.042582  \n",
       "RNO.PA              0.061146  \n",
       "SAF.PA              0.042829  \n",
       "SGO.PA              0.046666  \n",
       "SAN.PA              0.031260  \n",
       "SU.PA               0.039885  \n",
       "GLE.PA              0.062426  \n",
       "STLAM.MI            0.051333  \n",
       "STMPA.PA            0.051841  \n",
       "TEP.PA              0.066833  \n",
       "HO.PA               0.037071  \n",
       "TTE.PA              0.041706  \n",
       "UNBLF               0.078389  \n",
       "VIE.PA              0.043416  \n",
       "DG.PA               0.034974  \n",
       "VIV.PA              0.037059  \n",
       "WLN.PA              0.056446  "
      ]
     },
     "execution_count": 84,
     "metadata": {},
     "output_type": "execute_result"
    }
   ],
   "source": [
    "fin.summary_stats(df_cac40_stocks_rets, riskfree_rate=0.01, periods_per_year=252)"
   ]
  }
 ],
 "metadata": {
  "kernelspec": {
   "display_name": "finances",
   "language": "python",
   "name": "finances"
  },
  "language_info": {
   "codemirror_mode": {
    "name": "ipython",
    "version": 3
   },
   "file_extension": ".py",
   "mimetype": "text/x-python",
   "name": "python",
   "nbconvert_exporter": "python",
   "pygments_lexer": "ipython3",
   "version": "3.11.4"
  }
 },
 "nbformat": 4,
 "nbformat_minor": 5
}
